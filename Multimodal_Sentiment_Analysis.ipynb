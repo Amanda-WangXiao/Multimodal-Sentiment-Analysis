{
  "cells": [
    {
      "cell_type": "code",
      "execution_count": 1,
      "id": "MZci3K3Sr4gk",
      "metadata": {
        "colab": {
          "base_uri": "https://localhost:8080/"
        },
        "id": "MZci3K3Sr4gk",
        "outputId": "2359c650-1935-49e1-802f-cc2d2a6c783c"
      },
      "outputs": [
        {
          "output_type": "stream",
          "name": "stdout",
          "text": [
            "Mounted at /content/drive\n"
          ]
        }
      ],
      "source": [
        "# data from drive\n",
        "from google.colab import drive\n",
        "drive.mount('/content/drive')"
      ]
    },
    {
      "cell_type": "markdown",
      "id": "0b36dc7e",
      "metadata": {
        "id": "0b36dc7e"
      },
      "source": [
        "## 1. 处理数据集"
      ]
    },
    {
      "cell_type": "code",
      "execution_count": 2,
      "id": "ca9f21ce",
      "metadata": {
        "id": "ca9f21ce"
      },
      "outputs": [],
      "source": [
        "import numpy as np\n",
        "import pandas as pd\n",
        "import torch\n",
        "from PIL import Image\n",
        "from sklearn.model_selection import train_test_split\n",
        "from torch.utils.data import DataLoader, IterableDataset\n",
        "from torchvision import transforms\n",
        "from transformers import BertTokenizer\n",
        "\n",
        "EMOTION2ID = {\"positive\": 0, \"neutral\": 1, \"negative\": 2, \"null\": 3}\n",
        "ID2EMOTION = {0: \"positive\", 1: \"neutral\", 2: \"negative\", 3: \"null\"}\n",
        "SEED = 42\n",
        "\n",
        "dataset_loc = \"/content/drive/MyDrive/data/MultimodalSentimentAnalysis\"\n",
        "\n",
        "\n",
        "class MultimodalDataset(IterableDataset):\n",
        "    def __init__(self, samples, tokenizer):\n",
        "        self.data = samples\n",
        "        self.tokenizer = tokenizer\n",
        "        self.samples = []\n",
        "\n",
        "        for guid, tag in zip(self.data[\"guid\"], self.data[\"tag\"]):\n",
        "            # load img\n",
        "            img = Image.open(f\"{dataset_loc}/tidata/{guid}.jpg\")\n",
        "            transform = transforms.Compose(\n",
        "                [\n",
        "                    transforms.Resize(224),\n",
        "                    transforms.CenterCrop(224),\n",
        "                    transforms.ToTensor(),\n",
        "                ]\n",
        "            )\n",
        "            img = transform(img)\n",
        "\n",
        "            # load txt\n",
        "            with open(f\"{dataset_loc}/tidata/{guid}.txt\", \"r\", encoding=\"gb18030\") as f:\n",
        "                txt = f.read()\n",
        "                txt = txt.replace(\"#\", \"\")\n",
        "\n",
        "            txt = self.tokenizer.encode(txt, add_special_tokens=True)\n",
        "            self.samples.append((guid, txt, img, EMOTION2ID[tag]))\n",
        "\n",
        "    def __len__(self):\n",
        "        return len(self.data)\n",
        "\n",
        "    def __iter__(self):\n",
        "        for bundles in self.samples:\n",
        "            yield bundles\n",
        "\n",
        "\n",
        "class DataHandler:\n",
        "    def __init__(self, batch_size):\n",
        "        self.batch_size = batch_size\n",
        "        self.tokenizer = BertTokenizer.from_pretrained(\n",
        "            \"bert-base-uncased\", mirror=\"bfsu\"\n",
        "        )\n",
        "        self.get_dataloader()\n",
        "\n",
        "    @staticmethod\n",
        "    def _collate_fn(batch):\n",
        "        guid = []\n",
        "        txt = []\n",
        "        img = []\n",
        "        tag = []\n",
        "        max_len = 0\n",
        "        for sample in batch:\n",
        "            guid.append(sample[0])\n",
        "            txt.append(sample[1])\n",
        "            max_len = max(max_len, len(sample[1]))\n",
        "            img.append(np.array(sample[2]).tolist())\n",
        "            tag.append(sample[3])\n",
        "\n",
        "        padded_txt = []\n",
        "        txt_mask = []\n",
        "        for t in txt:\n",
        "            padded = t + [0] * (max_len - len(t))\n",
        "            mask = [1] * len(t) + [0] * (max_len - len(t))\n",
        "            padded_txt.append(padded)\n",
        "            txt_mask.append(mask)\n",
        "\n",
        "        padded_txt = torch.LongTensor(padded_txt)\n",
        "        txt_mask = torch.BoolTensor(txt_mask)\n",
        "        img = torch.FloatTensor(img)\n",
        "        tag = torch.LongTensor(tag)\n",
        "        return guid, padded_txt, txt_mask, img, tag\n",
        "\n",
        "\n",
        "    def get_dataloader(self):\n",
        "        print(\"===== Data Info =====\")\n",
        "        samples = pd.read_csv(f\"{dataset_loc}/label/train.txt\")\n",
        "        print(samples[\"tag\"].value_counts())\n",
        "\n",
        "        train_samples, val_samples = train_test_split(\n",
        "            samples, test_size=0.2, random_state=SEED\n",
        "        )\n",
        "        test_samples = pd.read_csv(f\"{dataset_loc}/label/test_without_label.txt\").fillna(\n",
        "            \"null\"\n",
        "        )\n",
        "\n",
        "        self.train_size = len(train_samples)\n",
        "        self.val_size = len(val_samples)\n",
        "        self.test_size = len(test_samples)\n",
        "\n",
        "        print(\"\\nTrain size:\", self.train_size)\n",
        "        print(\"Val size:\", self.val_size)\n",
        "        print(\"Test size:\", self.test_size, \"\\n\")\n",
        "        print(\"Loading dataset...\\n\")\n",
        "\n",
        "        train_data = MultimodalDataset(train_samples, self.tokenizer)\n",
        "        val_data = MultimodalDataset(val_samples, self.tokenizer)\n",
        "        test_data = MultimodalDataset(test_samples, self.tokenizer)\n",
        "\n",
        "        self.train_loader = DataLoader(\n",
        "            train_data, batch_size=self.batch_size, collate_fn=self._collate_fn\n",
        "        )\n",
        "        self.val_loader = DataLoader(\n",
        "            val_data, batch_size=self.batch_size, collate_fn=self._collate_fn\n",
        "        )\n",
        "        self.test_loader = DataLoader(\n",
        "            test_data, batch_size=self.batch_size, collate_fn=self._collate_fn\n",
        "        )\n"
      ]
    },
    {
      "cell_type": "markdown",
      "id": "187640ac",
      "metadata": {
        "id": "187640ac"
      },
      "source": [
        "## 2. 定义模型"
      ]
    },
    {
      "cell_type": "code",
      "execution_count": 3,
      "id": "92d8fcae",
      "metadata": {
        "id": "92d8fcae"
      },
      "outputs": [],
      "source": [
        "import torch\n",
        "import torch.nn as nn\n",
        "import torchvision\n",
        "from torchvision.models import ResNet18_Weights\n",
        "from transformers import BertModel\n",
        "\n",
        "\n",
        "class BertResnetWithConcat(nn.Module):\n",
        "    def __init__(self):\n",
        "        super().__init__()\n",
        "        self.txt_model = BertModel.from_pretrained(\"bert-base-uncased\")\n",
        "        self.img_model = torchvision.models.resnet18(\n",
        "            weights=ResNet18_Weights.IMAGENET1K_V1\n",
        "        )\n",
        "\n",
        "        self.fc = nn.Linear(768 + 1000, 3)\n",
        "        self.only_img_fc = nn.Linear(1000, 3)\n",
        "        self.only_txt_fc = nn.Linear(768, 3)\n",
        "\n",
        "    def forward(self, txt, txt_mask, img, ablate):\n",
        "        if ablate == 0:  # both\n",
        "            img = self.img_model(img)\n",
        "            txt = self.txt_model(input_ids=txt, attention_mask=txt_mask)  # type: ignore\n",
        "            txt = txt.last_hidden_state[:, 0, :]  # CLS vector\n",
        "            txt.view(txt.shape[0], -1)\n",
        "\n",
        "            out = torch.cat((txt, img), dim=-1)\n",
        "            out = self.fc(out)\n",
        "        elif ablate == 1:  # img only\n",
        "            img = self.img_model(img)\n",
        "            out = self.only_img_fc(img)\n",
        "        else:  # txt only\n",
        "            txt = self.txt_model(input_ids=txt, attention_mask=txt_mask)  # type: ignore\n",
        "            txt = txt.last_hidden_state[:, 0, :]  # CLS vector\n",
        "            txt.view(txt.shape[0], -1)\n",
        "            out = self.only_txt_fc(txt)\n",
        "\n",
        "        return out\n"
      ]
    },
    {
      "cell_type": "code",
      "execution_count": 4,
      "id": "41d4ae25",
      "metadata": {
        "id": "41d4ae25"
      },
      "outputs": [],
      "source": [
        "import torch\n",
        "import torch.nn as nn\n",
        "import torchvision\n",
        "from torchvision.models import ResNet18_Weights\n",
        "from transformers import BertModel\n",
        "\n",
        "\n",
        "class BertResnetWithAttention(nn.Module):\n",
        "    def __init__(self):\n",
        "        super().__init__()\n",
        "        self.txt_model = BertModel.from_pretrained(\"bert-base-uncased\")\n",
        "        self.img_model = torchvision.models.resnet18(\n",
        "            weights=ResNet18_Weights.IMAGENET1K_V1\n",
        "        )\n",
        "\n",
        "        self.txt_fc = nn.Linear(768, 256)\n",
        "        self.img_fc = nn.Linear(1000, 256)\n",
        "\n",
        "        self.fc = nn.Linear(512, 3)\n",
        "\n",
        "        self.transformer_encoder = nn.TransformerEncoder(\n",
        "            encoder_layer=nn.TransformerEncoderLayer(\n",
        "                d_model=512,\n",
        "                nhead=4,\n",
        "                dim_feedforward=512,\n",
        "                dropout=0.4,\n",
        "            ),\n",
        "            num_layers=2,\n",
        "        )\n",
        "\n",
        "        self.activate = nn.LeakyReLU()\n",
        "\n",
        "    def forward(self, txt, txt_mask, img, _):\n",
        "        img = self.img_model(img)\n",
        "        img = self.img_fc(img)\n",
        "        img = self.activate(img)\n",
        "\n",
        "        txt = self.txt_model(input_ids=txt, attention_mask=txt_mask)  # type: ignore\n",
        "        txt = txt.last_hidden_state[:, 0, :]  # CLS vector\n",
        "        txt.view(txt.shape[0], -1)\n",
        "        txt = self.txt_fc(txt)\n",
        "        txt = self.activate(txt)\n",
        "\n",
        "        out = torch.cat((txt, img), dim=-1)\n",
        "        out = self.transformer_encoder(out)\n",
        "        out = self.fc(out)\n",
        "\n",
        "        return out\n"
      ]
    },
    {
      "cell_type": "code",
      "execution_count": 5,
      "id": "ee682e79",
      "metadata": {
        "id": "ee682e79"
      },
      "outputs": [],
      "source": [
        "import torch\n",
        "import torch.nn as nn\n",
        "import torchvision\n",
        "from torchvision.models import DenseNet121_Weights\n",
        "from transformers import BertModel\n",
        "\n",
        "\n",
        "class BertDensenetWithConcat(nn.Module):\n",
        "    def __init__(self):\n",
        "        super().__init__()\n",
        "        self.txt_model = BertModel.from_pretrained(\"bert-base-uncased\")\n",
        "        self.img_model = torchvision.models.densenet121(\n",
        "            weights=DenseNet121_Weights.IMAGENET1K_V1\n",
        "        )\n",
        "\n",
        "        self.fc = nn.Linear(768 + 1000, 3)\n",
        "        self.only_img_fc = nn.Linear(1000, 3)\n",
        "        self.only_txt_fc = nn.Linear(768, 3)\n",
        "\n",
        "    def forward(self, txt, txt_mask, img, ablate):\n",
        "        if ablate == 0:  # both\n",
        "            img = self.img_model(img)\n",
        "            txt = self.txt_model(input_ids=txt, attention_mask=txt_mask)  # type: ignore\n",
        "            txt = txt.last_hidden_state[:, 0, :]  # CLS vector\n",
        "            txt.view(txt.shape[0], -1)\n",
        "\n",
        "            out = torch.cat((txt, img), dim=-1)\n",
        "            out = self.fc(out)\n",
        "        elif ablate == 1:  # img only\n",
        "            img = self.img_model(img)\n",
        "            out = self.only_img_fc(img)\n",
        "        else:  # txt only\n",
        "            txt = self.txt_model(input_ids=txt, attention_mask=txt_mask)  # type: ignore\n",
        "            txt = txt.last_hidden_state[:, 0, :]  # CLS vector\n",
        "            txt.view(txt.shape[0], -1)\n",
        "            out = self.only_txt_fc(txt)\n",
        "\n",
        "        return out\n"
      ]
    },
    {
      "cell_type": "code",
      "execution_count": 6,
      "id": "e397a0df",
      "metadata": {
        "id": "e397a0df"
      },
      "outputs": [],
      "source": [
        "import torch\n",
        "import torch.nn as nn\n",
        "import torchvision\n",
        "from torchvision.models import DenseNet121_Weights\n",
        "from transformers import BertModel\n",
        "\n",
        "\n",
        "class BertDensenetWithAttention(nn.Module):\n",
        "    def __init__(self):\n",
        "        super().__init__()\n",
        "        self.txt_model = BertModel.from_pretrained(\"bert-base-uncased\")\n",
        "        self.img_model = torchvision.models.densenet121(\n",
        "            weights=DenseNet121_Weights.IMAGENET1K_V1\n",
        "        )\n",
        "\n",
        "        self.txt_fc = nn.Linear(768, 256)\n",
        "        self.img_fc = nn.Linear(1000, 256)\n",
        "\n",
        "        self.fc = nn.Linear(512, 3)\n",
        "\n",
        "        self.transformer_encoder = nn.TransformerEncoder(\n",
        "            encoder_layer=nn.TransformerEncoderLayer(\n",
        "                d_model=512,\n",
        "                nhead=4,\n",
        "                dim_feedforward=512,\n",
        "                dropout=0.4,\n",
        "            ),\n",
        "            num_layers=2,\n",
        "        )\n",
        "\n",
        "        self.activate = nn.LeakyReLU()\n",
        "\n",
        "    def forward(self, txt, txt_mask, img, _):\n",
        "        img = self.img_model(img)\n",
        "        img = self.img_fc(img)\n",
        "        img = self.activate(img)\n",
        "\n",
        "        txt = self.txt_model(input_ids=txt, attention_mask=txt_mask)  # type: ignore\n",
        "        txt = txt.last_hidden_state[:, 0, :]  # CLS vector\n",
        "        txt.view(txt.shape[0], -1)\n",
        "        txt = self.txt_fc(txt)\n",
        "        txt = self.activate(txt)\n",
        "\n",
        "        out = torch.cat((txt, img), dim=-1)\n",
        "        out = self.transformer_encoder(out)\n",
        "        out = self.fc(out)\n",
        "\n",
        "        return out\n"
      ]
    },
    {
      "cell_type": "markdown",
      "id": "df3379fe",
      "metadata": {
        "id": "df3379fe"
      },
      "source": [
        "## 3. 定义训练过程"
      ]
    },
    {
      "cell_type": "code",
      "execution_count": 7,
      "id": "c383023d",
      "metadata": {
        "id": "c383023d"
      },
      "outputs": [],
      "source": [
        "import random\n",
        "\n",
        "import numpy as np\n",
        "import pandas as pd\n",
        "import torch\n",
        "import torch.nn as nn\n",
        "from sklearn.metrics import f1_score, precision_score, recall_score, accuracy_score\n",
        "from torch import optim\n",
        "from tqdm import tqdm\n",
        "\n",
        "output_loc = \".\"\n",
        "\n",
        "DEVICE = torch.device(\"cuda\" if torch.cuda.is_available() else \"cpu\")\n",
        "\n",
        "\n",
        "def set_seed(seed):\n",
        "    random.seed(seed)\n",
        "    np.random.seed(seed)\n",
        "    torch.manual_seed(seed)\n",
        "    torch.cuda.manual_seed_all(seed)\n",
        "    torch.backends.cudnn.deterministic = True\n",
        "\n",
        "\n",
        "class Model:\n",
        "    def __init__(\n",
        "        self,\n",
        "        max_epochs=10,\n",
        "        lr=1e-5,\n",
        "        batch_size=16,\n",
        "        model=0,\n",
        "        ablate=0,\n",
        "    ):\n",
        "        set_seed(SEED)\n",
        "\n",
        "        self.epochs = max_epochs\n",
        "        self.batch_size = batch_size\n",
        "        self.ablate = ablate\n",
        "        self.model_type = model\n",
        "        if model == 0:\n",
        "            self.model = BertResnetWithConcat().to(DEVICE)\n",
        "        elif model == 1:\n",
        "            self.model = BertResnetWithAttention().to(DEVICE)\n",
        "        elif model == 2:\n",
        "            self.model = BertDensenetWithConcat().to(DEVICE)\n",
        "        elif model == 3:\n",
        "            self.model = BertDensenetWithAttention().to(DEVICE)\n",
        "\n",
        "        self.optimizer = optim.AdamW(self.model.parameters(), lr=lr)\n",
        "        self.criterion = nn.CrossEntropyLoss()\n",
        "        self.data = DataHandler(self.batch_size)\n",
        "\n",
        "    def train(self):\n",
        "        self.train_loss = []\n",
        "        self.val_accuracy = []\n",
        "        print(\"===== Traning Info =====\")\n",
        "        print(\"Device:\", DEVICE)\n",
        "        print(\"Batch size:\", self.batch_size)\n",
        "\n",
        "        if self.ablate == 0:\n",
        "            if self.model_type == 0:\n",
        "                print(\"Model: BertResnetWithConcat\")\n",
        "            elif self.model_type == 1:\n",
        "                print(\"Model: BertResnetWithCrossAttention\")\n",
        "            elif self.model_type == 2:\n",
        "                print(\"Model: BertDensenetWithConcat\")\n",
        "            elif self.model_type == 3:\n",
        "                print(\"Model: BertDensenetWithCrossAttention\")\n",
        "        elif self.ablate == 1:\n",
        "            if self.model_type == 0:\n",
        "                print(\"Model: Resnet Only\")\n",
        "            elif self.model_type == 2:\n",
        "                print(\"Model: Densenet Only\")\n",
        "        elif self.ablate == 2:\n",
        "            print(\"Model: Bert only\")\n",
        "\n",
        "        print(\"\\n==== Starting Train ====\")\n",
        "\n",
        "        best_metrics = [float(\"inf\"), 0, 0, 0, 0]\n",
        "        early_stop_patience = 2\n",
        "        early_stop_count = 0\n",
        "        epoch = 0\n",
        "\n",
        "        for epoch in range(1, self.epochs + 1):\n",
        "            self._epoch_train(epoch)\n",
        "            metrics = self._evaluate()\n",
        "            if metrics[1] > best_metrics[1]:\n",
        "                best_metrics = metrics\n",
        "                torch.save(self.model.state_dict(), f\"{output_loc}/model.pt\")\n",
        "                early_stop_count = 0\n",
        "            else:\n",
        "                early_stop_count += 1\n",
        "                if early_stop_count == early_stop_patience:\n",
        "                    print(\"Early stop...\")\n",
        "                    break\n",
        "\n",
        "        print(f\"The training epoch is {epoch}\")\n",
        "        print(f\"Choose model with best accuracy: {best_metrics[1]}, with:\")\n",
        "        print(f\"Precision: {best_metrics[2]}\")\n",
        "        print(f\"Recall: {best_metrics[3]}\")\n",
        "        print(f\"F1: {best_metrics[4]}\")\n",
        "        self.model.load_state_dict(torch.load(f\"{output_loc}/model.pt\"))\n",
        "\n",
        "        def moving_average(data, window_size):\n",
        "            weights = np.repeat(1.0, window_size) / window_size\n",
        "            smoothed_data = np.convolve(data, weights, \"valid\")\n",
        "            return smoothed_data\n",
        "\n",
        "        window_size = 15\n",
        "        self.train_loss = moving_average(self.train_loss, window_size)\n",
        "\n",
        "    def _epoch_train(self, epoch):\n",
        "        self.model.train()\n",
        "        epoch_loss = 0\n",
        "        correct = 0\n",
        "        for _, txt, txt_mask, image, label in tqdm(self.data.train_loader):\n",
        "            txt = txt.to(DEVICE)\n",
        "            txt_mask = txt_mask.to(DEVICE)\n",
        "            image = image.to(DEVICE)\n",
        "            label = label.to(DEVICE)\n",
        "\n",
        "            self.optimizer.zero_grad()\n",
        "            output = self.model(txt, txt_mask, image, self.ablate)\n",
        "\n",
        "            loss = self.criterion(output, label)\n",
        "            loss.backward()\n",
        "\n",
        "            # used to prevent gradient explosion\n",
        "            # clip_grad_norm_(self.model.parameters(), 1)\n",
        "\n",
        "            self.optimizer.step()\n",
        "\n",
        "            pred = output.argmax(dim=1)\n",
        "            correct += (pred == label).sum().item()\n",
        "\n",
        "            self.train_loss.append(loss.item())\n",
        "            epoch_loss += loss.item()\n",
        "\n",
        "        epoch_loss /= len(self.data.train_loader)\n",
        "        epoch_acc = correct / self.data.train_size\n",
        "        print(f\"Train Epoch {epoch}\")\n",
        "        print(\"Train set: \\nLoss: {}, Accuracy: {}\".format(epoch_loss, epoch_acc))\n",
        "\n",
        "    def _evaluate(self):\n",
        "        self.model.eval()\n",
        "        epoch_loss = 0\n",
        "        preds = []\n",
        "        labels = []\n",
        "\n",
        "        with torch.no_grad():\n",
        "            for _, txt, txt_mask, image, label in self.data.val_loader:\n",
        "                txt = txt.to(DEVICE)\n",
        "                txt_mask = txt_mask.to(DEVICE)\n",
        "                image = image.to(DEVICE)\n",
        "                label = label.to(DEVICE)\n",
        "\n",
        "                self.optimizer.zero_grad()\n",
        "                output = self.model(txt, txt_mask, image, self.ablate)\n",
        "\n",
        "                loss = self.criterion(output, label)\n",
        "\n",
        "                pred = output.argmax(dim=1)\n",
        "                epoch_loss += loss.item()\n",
        "\n",
        "                preds.append(pred)\n",
        "                labels.append(label)\n",
        "\n",
        "        epoch_loss /= len(self.data.val_loader)\n",
        "\n",
        "        preds = torch.cat(preds).cpu().numpy()\n",
        "        labels = torch.cat(labels).cpu().numpy()\n",
        "\n",
        "        epoch_acc = accuracy_score(labels, preds)\n",
        "        self.val_accuracy.append(epoch_acc)\n",
        "\n",
        "        f1 = f1_score(labels, preds, average=\"macro\")\n",
        "        precision = precision_score(labels, preds, average=\"macro\")\n",
        "        recall = recall_score(labels, preds, average=\"macro\")\n",
        "        print(\n",
        "            \"Valid set: \\nLoss: {}, Accuracy: {}, Precision: {}, Recall: {}, F1: {}\".format(\n",
        "                epoch_loss, epoch_acc, precision, recall, f1\n",
        "            )\n",
        "        )\n",
        "        return epoch_loss, epoch_acc, precision, recall, f1\n",
        "\n",
        "    def save_test_result(self):\n",
        "        print(f\"Predict and save test result...\")\n",
        "        self.model.eval()\n",
        "        guid_list = []\n",
        "        tag_list = []\n",
        "\n",
        "        with torch.no_grad():\n",
        "            for guid, txt, txt_mask, image, _ in tqdm(self.data.test_loader):\n",
        "                txt = txt.to(DEVICE)\n",
        "                txt_mask = txt_mask.to(DEVICE)\n",
        "                image = image.to(DEVICE)\n",
        "\n",
        "                self.optimizer.zero_grad()\n",
        "                output = self.model(txt, txt_mask, image, self.ablate)\n",
        "                pred = output.argmax(dim=1)\n",
        "\n",
        "                guid_list.extend(guid)\n",
        "                emotion = [ID2EMOTION[p.item()] for p in pred]\n",
        "                tag_list.extend(emotion)\n",
        "\n",
        "        df = pd.DataFrame({\"guid\": guid_list, \"tag\": tag_list})\n",
        "        df.to_csv(f\"{output_loc}/test_with_predict.txt\", index=False)\n",
        "        print(\"Save successfully!\")"
      ]
    },
    {
      "cell_type": "markdown",
      "id": "6fafd659",
      "metadata": {
        "id": "6fafd659"
      },
      "source": [
        "## 4. 开始训练"
      ]
    },
    {
      "cell_type": "code",
      "execution_count": 8,
      "id": "0994f1d3",
      "metadata": {
        "colab": {
          "base_uri": "https://localhost:8080/",
          "height": 1000,
          "referenced_widgets": [
            "0e313f2631bd4a13bb70670c9beaedbd",
            "fae0f2ce1a784304a551452588cef059",
            "061de959e6fd4d8fbbb8cc1ece30b47f",
            "51ed8a43bf9d46ff99000f6a77bb6483",
            "f5786fe2869642a482f69e2c83d0c6fa",
            "4f4d819e1ece49beb41804963af61e31",
            "df0c62f915e440d39fc1aa11b7f0fb7e",
            "4e8742a4a5ef4d099152b664fc833e68",
            "6882699f261d456cbd5b678490b7bb24",
            "6d83bb724d274ad3bf5b2c562fc41e0f",
            "9b8d1c4d1f1e4443864059939d2fb0c3",
            "dc6d9ce37401488fa14aca4684f90b52",
            "47140342e86e4cc1b334a1930ca10b3e",
            "ec0f8bdd26484c02b78d2bbc82810465",
            "e039b01c519c4b61ac9d9bf90a43c800",
            "3acc12d5f5144a86a85b7974e8314cfd",
            "966abbfa9c924f148f820fad7950f7dc",
            "4cbf0e2e655642dc995bfabb3ee50e7a",
            "71c540aa514b438c8684a82944a39631",
            "76c331496f7e458b9258160a22328779",
            "ffd9e633af5a4ed3888b1088063e43fa",
            "97b6712833e84c87aa83d5fadef038cf",
            "474526e6bb2c47919c8b7385e964afed",
            "f4694c6b16f94a62b440fd047862c920",
            "b4aa6abc2842414e930704d671b31f36",
            "704538a058814b569553b50cb1364c53",
            "b2e43fee2a364fd0803a331c657d33a9",
            "d35b8255fc484ae6a6dc0ab1bd87d347",
            "c303a02647594fb69a6f2a563318b1ee",
            "31c643f17db54e509e7187f1f2f4337c",
            "bcb35a0979824ab7b242348ed27ec244",
            "e2278294214343859c62ac3004f5c99a",
            "70144547c4514f049f231cbc2c63eaf1",
            "c0f1779d577b4c6d9ea1b3d243f0232a",
            "b5b21f1af1ac451fb7314eb87bd76675",
            "ed02539fee8e4ada970d9639b56fe9c2",
            "315358c1b4924533b558d5107fa1de71",
            "f6b9c392e9fd4f118997490f89b00a7f",
            "525855e6a6ca4a9382e5bb8dad1a564e",
            "40d0c4c809034fb4ab638f644e6d47d7",
            "86c2e02f8af44c1695c50a750e1bfb44",
            "1827806b54334e0caad92100cfffa554",
            "8d72bc45039a410b9647373517a39275",
            "cc93f6299d844f74b89a448c83dc9a9c",
            "f466614815ff4bc78c1dcc8345856f52",
            "da74f9fb3d634735bc6752c78e3d2f07",
            "ebf2c6e6c3f046fe8b4db2d0753525e4",
            "a2df9db602894ade9b627300ccaf0c4b",
            "e7b7544a3cf94c5a916aa0678272541a",
            "69d6a884ad7249dda8a32750cba9915d",
            "12734a5a2e0646a88c2182469ceaf920",
            "7773895abe244c22b165f35a4182e537",
            "ec98363b88ab4bd298fae9da042e6a5c",
            "c3cc2c90811041948f961675d9eea1a3",
            "db8323c50c2e45dea4699dcee13c406e"
          ]
        },
        "id": "0994f1d3",
        "outputId": "30c249d4-70fd-4b8a-d9e0-97dfef39ca3a"
      },
      "outputs": [
        {
          "output_type": "stream",
          "name": "stderr",
          "text": [
            "/usr/local/lib/python3.10/dist-packages/huggingface_hub/utils/_token.py:89: UserWarning: \n",
            "The secret `HF_TOKEN` does not exist in your Colab secrets.\n",
            "To authenticate with the Hugging Face Hub, create a token in your settings tab (https://huggingface.co/settings/tokens), set it as secret in your Google Colab and restart your session.\n",
            "You will be able to reuse this secret in all of your notebooks.\n",
            "Please note that authentication is recommended but still optional to access public models or datasets.\n",
            "  warnings.warn(\n"
          ]
        },
        {
          "output_type": "display_data",
          "data": {
            "text/plain": [
              "config.json:   0%|          | 0.00/570 [00:00<?, ?B/s]"
            ],
            "application/vnd.jupyter.widget-view+json": {
              "version_major": 2,
              "version_minor": 0,
              "model_id": "0e313f2631bd4a13bb70670c9beaedbd"
            }
          },
          "metadata": {}
        },
        {
          "output_type": "display_data",
          "data": {
            "text/plain": [
              "model.safetensors:   0%|          | 0.00/440M [00:00<?, ?B/s]"
            ],
            "application/vnd.jupyter.widget-view+json": {
              "version_major": 2,
              "version_minor": 0,
              "model_id": "dc6d9ce37401488fa14aca4684f90b52"
            }
          },
          "metadata": {}
        },
        {
          "output_type": "stream",
          "name": "stderr",
          "text": [
            "Downloading: \"https://download.pytorch.org/models/resnet18-f37072fd.pth\" to /root/.cache/torch/hub/checkpoints/resnet18-f37072fd.pth\n",
            "100%|██████████| 44.7M/44.7M [00:00<00:00, 150MB/s]\n"
          ]
        },
        {
          "output_type": "display_data",
          "data": {
            "text/plain": [
              "tokenizer_config.json:   0%|          | 0.00/48.0 [00:00<?, ?B/s]"
            ],
            "application/vnd.jupyter.widget-view+json": {
              "version_major": 2,
              "version_minor": 0,
              "model_id": "474526e6bb2c47919c8b7385e964afed"
            }
          },
          "metadata": {}
        },
        {
          "output_type": "display_data",
          "data": {
            "text/plain": [
              "vocab.txt:   0%|          | 0.00/232k [00:00<?, ?B/s]"
            ],
            "application/vnd.jupyter.widget-view+json": {
              "version_major": 2,
              "version_minor": 0,
              "model_id": "c0f1779d577b4c6d9ea1b3d243f0232a"
            }
          },
          "metadata": {}
        },
        {
          "output_type": "display_data",
          "data": {
            "text/plain": [
              "tokenizer.json:   0%|          | 0.00/466k [00:00<?, ?B/s]"
            ],
            "application/vnd.jupyter.widget-view+json": {
              "version_major": 2,
              "version_minor": 0,
              "model_id": "f466614815ff4bc78c1dcc8345856f52"
            }
          },
          "metadata": {}
        },
        {
          "output_type": "stream",
          "name": "stdout",
          "text": [
            "===== Data Info =====\n",
            "tag\n",
            "positive    2388\n",
            "negative    1193\n",
            "neutral      419\n",
            "Name: count, dtype: int64\n",
            "\n",
            "Train size: 3200\n",
            "Val size: 800\n",
            "Test size: 511 \n",
            "\n",
            "Loading dataset...\n",
            "\n",
            "===== Traning Info =====\n",
            "Device: cuda\n",
            "Batch size: 16\n",
            "Model: BertResnetWithConcat\n",
            "\n",
            "==== Starting Train ====\n"
          ]
        },
        {
          "output_type": "stream",
          "name": "stderr",
          "text": [
            "100%|██████████| 200/200 [01:44<00:00,  1.92it/s]\n"
          ]
        },
        {
          "output_type": "stream",
          "name": "stdout",
          "text": [
            "Train Epoch 1\n",
            "Train set: \n",
            "Loss: 0.8496885965764522, Accuracy: 0.6215625\n",
            "Valid set: \n",
            "Loss: 0.7498187690973281, Accuracy: 0.67625, Precision: 0.5868308612211051, Recall: 0.5484813384237167, F1: 0.5478206304758767\n"
          ]
        },
        {
          "output_type": "stream",
          "name": "stderr",
          "text": [
            "100%|██████████| 200/200 [01:39<00:00,  2.02it/s]\n"
          ]
        },
        {
          "output_type": "stream",
          "name": "stdout",
          "text": [
            "Train Epoch 2\n",
            "Train set: \n",
            "Loss: 0.4730966706573963, Accuracy: 0.813125\n",
            "Valid set: \n",
            "Loss: 0.7430943235754967, Accuracy: 0.68875, Precision: 0.5920880425560875, Recall: 0.5554251832407935, F1: 0.5605968505617628\n"
          ]
        },
        {
          "output_type": "stream",
          "name": "stderr",
          "text": [
            "100%|██████████| 200/200 [01:39<00:00,  2.00it/s]\n"
          ]
        },
        {
          "output_type": "stream",
          "name": "stdout",
          "text": [
            "Train Epoch 3\n",
            "Train set: \n",
            "Loss: 0.28620767038315537, Accuracy: 0.91\n",
            "Valid set: \n",
            "Loss: 0.8057941061258316, Accuracy: 0.6875, Precision: 0.5931140016401047, Recall: 0.5654472218118106, F1: 0.5697576865997919\n"
          ]
        },
        {
          "output_type": "stream",
          "name": "stderr",
          "text": [
            "100%|██████████| 200/200 [01:39<00:00,  2.01it/s]\n"
          ]
        },
        {
          "output_type": "stream",
          "name": "stdout",
          "text": [
            "Train Epoch 4\n",
            "Train set: \n",
            "Loss: 0.1588735567033291, Accuracy: 0.9565625\n",
            "Valid set: \n",
            "Loss: 0.8780804842710495, Accuracy: 0.6925, Precision: 0.59283060033616, Recall: 0.5667815392802297, F1: 0.5752784441376425\n"
          ]
        },
        {
          "output_type": "stream",
          "name": "stderr",
          "text": [
            "100%|██████████| 200/200 [01:40<00:00,  1.99it/s]\n"
          ]
        },
        {
          "output_type": "stream",
          "name": "stdout",
          "text": [
            "Train Epoch 5\n",
            "Train set: \n",
            "Loss: 0.08240970600396395, Accuracy: 0.9840625\n",
            "Valid set: \n",
            "Loss: 0.9756992894411087, Accuracy: 0.70375, Precision: 0.6198390440804983, Recall: 0.5627540687781653, F1: 0.5821047034625925\n"
          ]
        },
        {
          "output_type": "stream",
          "name": "stderr",
          "text": [
            "100%|██████████| 200/200 [01:39<00:00,  2.00it/s]\n"
          ]
        },
        {
          "output_type": "stream",
          "name": "stdout",
          "text": [
            "Train Epoch 6\n",
            "Train set: \n",
            "Loss: 0.05104452925734222, Accuracy: 0.991875\n",
            "Valid set: \n",
            "Loss: 0.9996108424663543, Accuracy: 0.67625, Precision: 0.5671192380900464, Recall: 0.5651960712201676, F1: 0.564841797940677\n"
          ]
        },
        {
          "output_type": "stream",
          "name": "stderr",
          "text": [
            "100%|██████████| 200/200 [01:40<00:00,  2.00it/s]\n"
          ]
        },
        {
          "output_type": "stream",
          "name": "stdout",
          "text": [
            "Train Epoch 7\n",
            "Train set: \n",
            "Loss: 0.03359711333177984, Accuracy: 0.995625\n",
            "Valid set: \n",
            "Loss: 1.0611850214004517, Accuracy: 0.68, Precision: 0.5779331650483052, Recall: 0.5961195741185265, F1: 0.5851113595559267\n",
            "Early stop...\n",
            "The training epoch is 7\n",
            "Choose model with best accuracy: 0.70375, with:\n",
            "Precision: 0.6198390440804983\n",
            "Recall: 0.5627540687781653\n",
            "F1: 0.5821047034625925\n",
            "Training time: 821.5144982337952\n"
          ]
        },
        {
          "output_type": "stream",
          "name": "stderr",
          "text": [
            "/usr/local/lib/python3.10/dist-packages/torch/nn/modules/transformer.py:306: UserWarning: enable_nested_tensor is True, but self.use_nested_tensor is False because encoder_layer.self_attn.batch_first was not True(use batch_first for better inference performance)\n",
            "  warnings.warn(f\"enable_nested_tensor is True, but self.use_nested_tensor is False because {why_not_sparsity_fast_path}\")\n"
          ]
        },
        {
          "output_type": "stream",
          "name": "stdout",
          "text": [
            "===== Data Info =====\n",
            "tag\n",
            "positive    2388\n",
            "negative    1193\n",
            "neutral      419\n",
            "Name: count, dtype: int64\n",
            "\n",
            "Train size: 3200\n",
            "Val size: 800\n",
            "Test size: 511 \n",
            "\n",
            "Loading dataset...\n",
            "\n",
            "===== Traning Info =====\n",
            "Device: cuda\n",
            "Batch size: 16\n",
            "Model: BertResnetWithCrossAttention\n",
            "\n",
            "==== Starting Train ====\n"
          ]
        },
        {
          "output_type": "stream",
          "name": "stderr",
          "text": [
            "100%|██████████| 200/200 [01:40<00:00,  1.99it/s]\n"
          ]
        },
        {
          "output_type": "stream",
          "name": "stdout",
          "text": [
            "Train Epoch 1\n",
            "Train set: \n",
            "Loss: 0.8238494530320167, Accuracy: 0.639375\n",
            "Valid set: \n",
            "Loss: 0.7144250118732453, Accuracy: 0.6875, Precision: 0.6310528989116445, Recall: 0.5244132019930867, F1: 0.5186616560683862\n"
          ]
        },
        {
          "output_type": "stream",
          "name": "stderr",
          "text": [
            "100%|██████████| 200/200 [01:41<00:00,  1.98it/s]\n"
          ]
        },
        {
          "output_type": "stream",
          "name": "stdout",
          "text": [
            "Train Epoch 2\n",
            "Train set: \n",
            "Loss: 0.5309519196301699, Accuracy: 0.788125\n",
            "Valid set: \n",
            "Loss: 0.7280535227060319, Accuracy: 0.69875, Precision: 0.6262396322783377, Recall: 0.5554171882092259, F1: 0.565406518124089\n"
          ]
        },
        {
          "output_type": "stream",
          "name": "stderr",
          "text": [
            "100%|██████████| 200/200 [01:40<00:00,  1.98it/s]\n"
          ]
        },
        {
          "output_type": "stream",
          "name": "stdout",
          "text": [
            "Train Epoch 3\n",
            "Train set: \n",
            "Loss: 0.3378062539175153, Accuracy: 0.88\n",
            "Valid set: \n",
            "Loss: 0.81383544921875, Accuracy: 0.69125, Precision: 0.6065286096371701, Recall: 0.5808213477150094, F1: 0.5856840160180931\n"
          ]
        },
        {
          "output_type": "stream",
          "name": "stderr",
          "text": [
            "100%|██████████| 200/200 [01:42<00:00,  1.96it/s]\n"
          ]
        },
        {
          "output_type": "stream",
          "name": "stdout",
          "text": [
            "Train Epoch 4\n",
            "Train set: \n",
            "Loss: 0.19242971505969764, Accuracy: 0.9409375\n",
            "Valid set: \n",
            "Loss: 0.9050842416286469, Accuracy: 0.68125, Precision: 0.5882548701298701, Recall: 0.5915840460104472, F1: 0.5880629953356588\n",
            "Early stop...\n",
            "The training epoch is 4\n",
            "Choose model with best accuracy: 0.69875, with:\n",
            "Precision: 0.6262396322783377\n",
            "Recall: 0.5554171882092259\n",
            "F1: 0.565406518124089\n",
            "Training time: 473.31308245658875\n"
          ]
        },
        {
          "output_type": "stream",
          "name": "stderr",
          "text": [
            "Downloading: \"https://download.pytorch.org/models/densenet121-a639ec97.pth\" to /root/.cache/torch/hub/checkpoints/densenet121-a639ec97.pth\n",
            "100%|██████████| 30.8M/30.8M [00:00<00:00, 124MB/s]\n"
          ]
        },
        {
          "output_type": "stream",
          "name": "stdout",
          "text": [
            "===== Data Info =====\n",
            "tag\n",
            "positive    2388\n",
            "negative    1193\n",
            "neutral      419\n",
            "Name: count, dtype: int64\n",
            "\n",
            "Train size: 3200\n",
            "Val size: 800\n",
            "Test size: 511 \n",
            "\n",
            "Loading dataset...\n",
            "\n",
            "===== Traning Info =====\n",
            "Device: cuda\n",
            "Batch size: 16\n",
            "Model: BertDensenetWithConcat\n",
            "\n",
            "==== Starting Train ====\n"
          ]
        },
        {
          "output_type": "stream",
          "name": "stderr",
          "text": [
            "100%|██████████| 200/200 [01:59<00:00,  1.67it/s]\n"
          ]
        },
        {
          "output_type": "stream",
          "name": "stdout",
          "text": [
            "Train Epoch 1\n",
            "Train set: \n",
            "Loss: 0.8697494693100453, Accuracy: 0.6146875\n",
            "Valid set: \n",
            "Loss: 0.7131051075458527, Accuracy: 0.705, Precision: 0.6215363600572312, Recall: 0.5672493019271437, F1: 0.5640990201954953\n"
          ]
        },
        {
          "output_type": "stream",
          "name": "stderr",
          "text": [
            "100%|██████████| 200/200 [02:00<00:00,  1.66it/s]\n"
          ]
        },
        {
          "output_type": "stream",
          "name": "stdout",
          "text": [
            "Train Epoch 2\n",
            "Train set: \n",
            "Loss: 0.5022301672399044, Accuracy: 0.8046875\n",
            "Valid set: \n",
            "Loss: 0.7050493305921555, Accuracy: 0.69125, Precision: 0.5992486440762302, Recall: 0.5644525332843825, F1: 0.557953012514859\n"
          ]
        },
        {
          "output_type": "stream",
          "name": "stderr",
          "text": [
            "100%|██████████| 200/200 [01:59<00:00,  1.67it/s]\n"
          ]
        },
        {
          "output_type": "stream",
          "name": "stdout",
          "text": [
            "Train Epoch 3\n",
            "Train set: \n",
            "Loss: 0.31133358407765627, Accuracy: 0.8921875\n",
            "Valid set: \n",
            "Loss: 0.7373381960391998, Accuracy: 0.7125, Precision: 0.6034112087065244, Recall: 0.5766582814775586, F1: 0.5828856829964085\n"
          ]
        },
        {
          "output_type": "stream",
          "name": "stderr",
          "text": [
            "100%|██████████| 200/200 [02:00<00:00,  1.66it/s]\n"
          ]
        },
        {
          "output_type": "stream",
          "name": "stdout",
          "text": [
            "Train Epoch 4\n",
            "Train set: \n",
            "Loss: 0.18186696708202363, Accuracy: 0.9509375\n",
            "Valid set: \n",
            "Loss: 0.7859849151968956, Accuracy: 0.71875, Precision: 0.615297043575732, Recall: 0.5830889518684176, F1: 0.5929293428863149\n"
          ]
        },
        {
          "output_type": "stream",
          "name": "stderr",
          "text": [
            "100%|██████████| 200/200 [01:59<00:00,  1.67it/s]\n"
          ]
        },
        {
          "output_type": "stream",
          "name": "stdout",
          "text": [
            "Train Epoch 5\n",
            "Train set: \n",
            "Loss: 0.09447857830673456, Accuracy: 0.9815625\n",
            "Valid set: \n",
            "Loss: 0.9386572168767452, Accuracy: 0.7075, Precision: 0.6111614378081445, Recall: 0.5401167231968699, F1: 0.5599319857050818\n"
          ]
        },
        {
          "output_type": "stream",
          "name": "stderr",
          "text": [
            "100%|██████████| 200/200 [01:59<00:00,  1.67it/s]\n"
          ]
        },
        {
          "output_type": "stream",
          "name": "stdout",
          "text": [
            "Train Epoch 6\n",
            "Train set: \n",
            "Loss: 0.05526713373605162, Accuracy: 0.993125\n",
            "Valid set: \n",
            "Loss: 0.9600751166045666, Accuracy: 0.71, Precision: 0.6146588164251208, Recall: 0.5713878500677873, F1: 0.586913610646857\n",
            "Early stop...\n",
            "The training epoch is 6\n",
            "Choose model with best accuracy: 0.71875, with:\n",
            "Precision: 0.615297043575732\n",
            "Recall: 0.5830889518684176\n",
            "F1: 0.5929293428863149\n",
            "Training time: 828.187252998352\n"
          ]
        },
        {
          "output_type": "stream",
          "name": "stderr",
          "text": [
            "/usr/local/lib/python3.10/dist-packages/torch/nn/modules/transformer.py:306: UserWarning: enable_nested_tensor is True, but self.use_nested_tensor is False because encoder_layer.self_attn.batch_first was not True(use batch_first for better inference performance)\n",
            "  warnings.warn(f\"enable_nested_tensor is True, but self.use_nested_tensor is False because {why_not_sparsity_fast_path}\")\n"
          ]
        },
        {
          "output_type": "stream",
          "name": "stdout",
          "text": [
            "===== Data Info =====\n",
            "tag\n",
            "positive    2388\n",
            "negative    1193\n",
            "neutral      419\n",
            "Name: count, dtype: int64\n",
            "\n",
            "Train size: 3200\n",
            "Val size: 800\n",
            "Test size: 511 \n",
            "\n",
            "Loading dataset...\n",
            "\n",
            "===== Traning Info =====\n",
            "Device: cuda\n",
            "Batch size: 16\n",
            "Model: BertDensenetWithCrossAttention\n",
            "\n",
            "==== Starting Train ====\n"
          ]
        },
        {
          "output_type": "stream",
          "name": "stderr",
          "text": [
            "100%|██████████| 200/200 [02:00<00:00,  1.66it/s]\n"
          ]
        },
        {
          "output_type": "stream",
          "name": "stdout",
          "text": [
            "Train Epoch 1\n",
            "Train set: \n",
            "Loss: 0.8073148091137409, Accuracy: 0.6359375\n",
            "Valid set: \n",
            "Loss: 0.7008783906698227, Accuracy: 0.71, Precision: 0.6572816618271163, Recall: 0.5567486274662806, F1: 0.5576215136129004\n"
          ]
        },
        {
          "output_type": "stream",
          "name": "stderr",
          "text": [
            "100%|██████████| 200/200 [02:00<00:00,  1.66it/s]\n"
          ]
        },
        {
          "output_type": "stream",
          "name": "stdout",
          "text": [
            "Train Epoch 2\n",
            "Train set: \n",
            "Loss: 0.5329073137789965, Accuracy: 0.7840625\n",
            "Valid set: \n",
            "Loss: 0.7102836936712265, Accuracy: 0.715, Precision: 0.6477948192697254, Recall: 0.5764847359923316, F1: 0.5795817342968533\n"
          ]
        },
        {
          "output_type": "stream",
          "name": "stderr",
          "text": [
            "100%|██████████| 200/200 [02:01<00:00,  1.64it/s]\n"
          ]
        },
        {
          "output_type": "stream",
          "name": "stdout",
          "text": [
            "Train Epoch 3\n",
            "Train set: \n",
            "Loss: 0.339580100774765, Accuracy: 0.8784375\n",
            "Valid set: \n",
            "Loss: 0.8083603012561799, Accuracy: 0.70375, Precision: 0.6271379662785628, Recall: 0.5828429180969779, F1: 0.5849830265714345\n"
          ]
        },
        {
          "output_type": "stream",
          "name": "stderr",
          "text": [
            "100%|██████████| 200/200 [02:01<00:00,  1.64it/s]\n"
          ]
        },
        {
          "output_type": "stream",
          "name": "stdout",
          "text": [
            "Train Epoch 4\n",
            "Train set: \n",
            "Loss: 0.19785760063678026, Accuracy: 0.938125\n",
            "Valid set: \n",
            "Loss: 0.8779475706815719, Accuracy: 0.70375, Precision: 0.603378756119883, Recall: 0.5874192741662622, F1: 0.5939001349527665\n",
            "Early stop...\n",
            "The training epoch is 4\n",
            "Choose model with best accuracy: 0.715, with:\n",
            "Precision: 0.6477948192697254\n",
            "Recall: 0.5764847359923316\n",
            "F1: 0.5795817342968533\n",
            "Training time: 558.1435964107513\n",
            "===== Data Info =====\n",
            "tag\n",
            "positive    2388\n",
            "negative    1193\n",
            "neutral      419\n",
            "Name: count, dtype: int64\n",
            "\n",
            "Train size: 3200\n",
            "Val size: 800\n",
            "Test size: 511 \n",
            "\n",
            "Loading dataset...\n",
            "\n",
            "===== Traning Info =====\n",
            "Device: cuda\n",
            "Batch size: 16\n",
            "Model: Resnet Only\n",
            "\n",
            "==== Starting Train ====\n"
          ]
        },
        {
          "output_type": "stream",
          "name": "stderr",
          "text": [
            "100%|██████████| 200/200 [01:08<00:00,  2.92it/s]\n"
          ]
        },
        {
          "output_type": "stream",
          "name": "stdout",
          "text": [
            "Train Epoch 1\n",
            "Train set: \n",
            "Loss: 0.9367922446131707, Accuracy: 0.5796875\n",
            "Valid set: \n",
            "Loss: 0.895334648489952, Accuracy: 0.57125, Precision: 0.46997248191278046, Recall: 0.41962232323678106, F1: 0.43059609458325604\n"
          ]
        },
        {
          "output_type": "stream",
          "name": "stderr",
          "text": [
            "100%|██████████| 200/200 [01:11<00:00,  2.79it/s]\n"
          ]
        },
        {
          "output_type": "stream",
          "name": "stdout",
          "text": [
            "Train Epoch 2\n",
            "Train set: \n",
            "Loss: 0.6585938584804535, Accuracy: 0.7140625\n",
            "Valid set: \n",
            "Loss: 0.8759930753707885, Accuracy: 0.5825, Precision: 0.4760442487173153, Recall: 0.434645946956057, F1: 0.44475511594604583\n"
          ]
        },
        {
          "output_type": "stream",
          "name": "stderr",
          "text": [
            "100%|██████████| 200/200 [01:12<00:00,  2.75it/s]\n"
          ]
        },
        {
          "output_type": "stream",
          "name": "stdout",
          "text": [
            "Train Epoch 3\n",
            "Train set: \n",
            "Loss: 0.49178438156843185, Accuracy: 0.8203125\n",
            "Valid set: \n",
            "Loss: 0.889471036195755, Accuracy: 0.59625, Precision: 0.49707896575821103, Recall: 0.4562329585902137, F1: 0.4675277022347822\n"
          ]
        },
        {
          "output_type": "stream",
          "name": "stderr",
          "text": [
            "100%|██████████| 200/200 [01:12<00:00,  2.77it/s]\n"
          ]
        },
        {
          "output_type": "stream",
          "name": "stdout",
          "text": [
            "Train Epoch 4\n",
            "Train set: \n",
            "Loss: 0.34435295216739176, Accuracy: 0.91375\n",
            "Valid set: \n",
            "Loss: 0.9257272279262543, Accuracy: 0.59375, Precision: 0.5019576102887954, Recall: 0.465564866036317, F1: 0.4773254051292504\n"
          ]
        },
        {
          "output_type": "stream",
          "name": "stderr",
          "text": [
            "100%|██████████| 200/200 [01:12<00:00,  2.76it/s]\n"
          ]
        },
        {
          "output_type": "stream",
          "name": "stdout",
          "text": [
            "Train Epoch 5\n",
            "Train set: \n",
            "Loss: 0.21913708034902812, Accuracy: 0.970625\n",
            "Valid set: \n",
            "Loss: 0.9811245912313461, Accuracy: 0.59625, Precision: 0.4969459035486559, Recall: 0.4676794985857322, F1: 0.47772231980616375\n",
            "Early stop...\n",
            "The training epoch is 5\n",
            "Choose model with best accuracy: 0.59625, with:\n",
            "Precision: 0.49707896575821103\n",
            "Recall: 0.4562329585902137\n",
            "F1: 0.4675277022347822\n",
            "Training time: 434.4589614868164\n",
            "===== Data Info =====\n",
            "tag\n",
            "positive    2388\n",
            "negative    1193\n",
            "neutral      419\n",
            "Name: count, dtype: int64\n",
            "\n",
            "Train size: 3200\n",
            "Val size: 800\n",
            "Test size: 511 \n",
            "\n",
            "Loading dataset...\n",
            "\n",
            "===== Traning Info =====\n",
            "Device: cuda\n",
            "Batch size: 16\n",
            "Model: Bert only\n",
            "\n",
            "==== Starting Train ====\n"
          ]
        },
        {
          "output_type": "stream",
          "name": "stderr",
          "text": [
            "100%|██████████| 200/200 [01:29<00:00,  2.23it/s]\n"
          ]
        },
        {
          "output_type": "stream",
          "name": "stdout",
          "text": [
            "Train Epoch 1\n",
            "Train set: \n",
            "Loss: 0.8058575423061848, Accuracy: 0.64875\n",
            "Valid set: \n",
            "Loss: 0.7062317603826522, Accuracy: 0.69375, Precision: 0.6439365767999173, Recall: 0.5573662703049816, F1: 0.5577014657642584\n"
          ]
        },
        {
          "output_type": "stream",
          "name": "stderr",
          "text": [
            "100%|██████████| 200/200 [01:29<00:00,  2.22it/s]\n"
          ]
        },
        {
          "output_type": "stream",
          "name": "stdout",
          "text": [
            "Train Epoch 2\n",
            "Train set: \n",
            "Loss: 0.6176616565138101, Accuracy: 0.7509375\n",
            "Valid set: \n",
            "Loss: 0.7043585062026978, Accuracy: 0.7025, Precision: 0.674945994371439, Recall: 0.5614628178797901, F1: 0.5648301128077976\n"
          ]
        },
        {
          "output_type": "stream",
          "name": "stderr",
          "text": [
            "100%|██████████| 200/200 [01:28<00:00,  2.26it/s]\n"
          ]
        },
        {
          "output_type": "stream",
          "name": "stdout",
          "text": [
            "Train Epoch 3\n",
            "Train set: \n",
            "Loss: 0.463510375469923, Accuracy: 0.8259375\n",
            "Valid set: \n",
            "Loss: 0.7930830830335617, Accuracy: 0.7025, Precision: 0.6000514914119681, Recall: 0.562974092046905, F1: 0.5652737304734151\n"
          ]
        },
        {
          "output_type": "stream",
          "name": "stderr",
          "text": [
            "100%|██████████| 200/200 [01:26<00:00,  2.30it/s]\n"
          ]
        },
        {
          "output_type": "stream",
          "name": "stdout",
          "text": [
            "Train Epoch 4\n",
            "Train set: \n",
            "Loss: 0.3203350776806474, Accuracy: 0.8796875\n",
            "Valid set: \n",
            "Loss: 0.893528220653534, Accuracy: 0.68, Precision: 0.577010410726342, Recall: 0.5672664645949088, F1: 0.5705483448867509\n",
            "Early stop...\n",
            "The training epoch is 4\n",
            "Choose model with best accuracy: 0.7025, with:\n",
            "Precision: 0.674945994371439\n",
            "Recall: 0.5614628178797901\n",
            "F1: 0.5648301128077976\n",
            "Training time: 422.9268465042114\n",
            "===== Data Info =====\n",
            "tag\n",
            "positive    2388\n",
            "negative    1193\n",
            "neutral      419\n",
            "Name: count, dtype: int64\n",
            "\n",
            "Train size: 3200\n",
            "Val size: 800\n",
            "Test size: 511 \n",
            "\n",
            "Loading dataset...\n",
            "\n",
            "===== Traning Info =====\n",
            "Device: cuda\n",
            "Batch size: 16\n",
            "Model: Densenet Only\n",
            "\n",
            "==== Starting Train ====\n"
          ]
        },
        {
          "output_type": "stream",
          "name": "stderr",
          "text": [
            "100%|██████████| 200/200 [01:23<00:00,  2.38it/s]\n"
          ]
        },
        {
          "output_type": "stream",
          "name": "stdout",
          "text": [
            "Train Epoch 1\n",
            "Train set: \n",
            "Loss: 0.9691132307052612, Accuracy: 0.5596875\n",
            "Valid set: \n",
            "Loss: 0.891026707291603, Accuracy: 0.60375, Precision: 0.4647574900699045, Recall: 0.42568820698731646, F1: 0.43002602472348733\n"
          ]
        },
        {
          "output_type": "stream",
          "name": "stderr",
          "text": [
            "100%|██████████| 200/200 [01:23<00:00,  2.38it/s]\n"
          ]
        },
        {
          "output_type": "stream",
          "name": "stdout",
          "text": [
            "Train Epoch 2\n",
            "Train set: \n",
            "Loss: 0.6781162221729755, Accuracy: 0.7171875\n",
            "Valid set: \n",
            "Loss: 0.8678197860717773, Accuracy: 0.62125, Precision: 0.48943872965145313, Recall: 0.45228309319456517, F1: 0.45912960882760734\n"
          ]
        },
        {
          "output_type": "stream",
          "name": "stderr",
          "text": [
            "100%|██████████| 200/200 [01:24<00:00,  2.37it/s]\n"
          ]
        },
        {
          "output_type": "stream",
          "name": "stdout",
          "text": [
            "Train Epoch 3\n",
            "Train set: \n",
            "Loss: 0.5174325609207153, Accuracy: 0.8171875\n",
            "Valid set: \n",
            "Loss: 0.8685394263267517, Accuracy: 0.63, Precision: 0.5074113894279988, Recall: 0.4714980322628306, F1: 0.48046993021950607\n"
          ]
        },
        {
          "output_type": "stream",
          "name": "stderr",
          "text": [
            "100%|██████████| 200/200 [01:24<00:00,  2.35it/s]\n"
          ]
        },
        {
          "output_type": "stream",
          "name": "stdout",
          "text": [
            "Train Epoch 4\n",
            "Train set: \n",
            "Loss: 0.38553887240588663, Accuracy: 0.8915625\n",
            "Valid set: \n",
            "Loss: 0.8820705312490463, Accuracy: 0.625, Precision: 0.5002712306194722, Recall: 0.4746550037278167, F1: 0.4825371093319217\n"
          ]
        },
        {
          "output_type": "stream",
          "name": "stderr",
          "text": [
            "100%|██████████| 200/200 [01:24<00:00,  2.36it/s]\n"
          ]
        },
        {
          "output_type": "stream",
          "name": "stdout",
          "text": [
            "Train Epoch 5\n",
            "Train set: \n",
            "Loss: 0.2744830487668514, Accuracy: 0.9525\n",
            "Valid set: \n",
            "Loss: 0.9070168447494507, Accuracy: 0.625, Precision: 0.5034696467718275, Recall: 0.4772465665603434, F1: 0.4855883613198615\n",
            "Early stop...\n",
            "The training epoch is 5\n",
            "Choose model with best accuracy: 0.63, with:\n",
            "Precision: 0.5074113894279988\n",
            "Recall: 0.4714980322628306\n",
            "F1: 0.48046993021950607\n",
            "Training time: 506.47434544563293\n"
          ]
        },
        {
          "output_type": "display_data",
          "data": {
            "text/plain": [
              "<Figure size 640x480 with 1 Axes>"
            ],
            "image/png": "[encoded data removed]"
          },
          "metadata": {}
        },
        {
          "output_type": "display_data",
          "data": {
            "text/plain": [
              "<Figure size 640x480 with 1 Axes>"
            ],
            "image/png": "[encoded data removed]"
          },
          "metadata": {}
        }
      ],
      "source": [
        "import time\n",
        "\n",
        "from matplotlib import pyplot as plt\n",
        "\n",
        "if __name__ == \"__main__\":\n",
        "    bert_resnet_with_concat = Model(model=0)\n",
        "\n",
        "    start_time = time.time()\n",
        "    bert_resnet_with_concat.train()\n",
        "    end_time = time.time()\n",
        "\n",
        "    print(\"Training time:\", end_time - start_time)\n",
        "\n",
        "    bert_resnet_with_attention = Model(model=1)\n",
        "\n",
        "    start_time = time.time()\n",
        "    bert_resnet_with_attention.train()\n",
        "    end_time = time.time()\n",
        "\n",
        "    print(\"Training time:\", end_time - start_time)\n",
        "\n",
        "    bert_densenet_with_concat = Model(model=2)\n",
        "\n",
        "    start_time = time.time()\n",
        "    bert_densenet_with_concat.train()\n",
        "    end_time = time.time()\n",
        "\n",
        "    print(\"Training time:\", end_time - start_time)\n",
        "\n",
        "    bert_densenet_with_attention = Model(model=3)\n",
        "\n",
        "    start_time = time.time()\n",
        "    bert_densenet_with_attention.train()\n",
        "    end_time = time.time()\n",
        "\n",
        "    print(\"Training time:\", end_time - start_time)\n",
        "\n",
        "    resnet = Model(model=0, ablate=1)\n",
        "\n",
        "    start_time = time.time()\n",
        "    resnet.train()\n",
        "    end_time = time.time()\n",
        "\n",
        "    print(\"Training time:\", end_time - start_time)\n",
        "\n",
        "    bert = Model(model=0, ablate=2)\n",
        "\n",
        "    start_time = time.time()\n",
        "    bert.train()\n",
        "    end_time = time.time()\n",
        "\n",
        "    print(\"Training time:\", end_time - start_time)\n",
        "\n",
        "    densenet = Model(model=2, ablate=1)\n",
        "\n",
        "    start_time = time.time()\n",
        "    densenet.train()\n",
        "    end_time = time.time()\n",
        "\n",
        "    print(\"Training time:\", end_time - start_time)\n",
        "\n",
        "    plt.plot(bert_resnet_with_concat.train_loss, label=\"BertResnetWithConcat\")\n",
        "    plt.plot(bert_resnet_with_attention.train_loss, label=\"BertResnetWithAttention\")\n",
        "    plt.plot(bert_densenet_with_concat.train_loss, label=\"BertDensenetWithConcat\")\n",
        "    plt.plot(bert_densenet_with_attention.train_loss, label=\"BertDensenetWithAttention\")\n",
        "    plt.plot(resnet.train_loss, label=\"Resnet Only\")\n",
        "    plt.plot(bert.train_loss, label=\"Bert Only\")\n",
        "    plt.plot(densenet.train_loss, label=\"Densenet Only\")\n",
        "    plt.title(\"Train Loss\")\n",
        "    plt.legend()\n",
        "    plt.show()\n",
        "\n",
        "    plt.plot(bert_resnet_with_concat.val_accuracy, label=\"BertResnetWithConcat\")\n",
        "    plt.plot(bert_resnet_with_attention.val_accuracy, label=\"BertResnetWithAttention\")\n",
        "    plt.plot(bert_densenet_with_concat.val_accuracy, label=\"BertDensenetWithConcat\")\n",
        "    plt.plot(\n",
        "        bert_densenet_with_attention.val_accuracy, label=\"BertDensenetWithAttention\"\n",
        "    )\n",
        "    plt.plot(resnet.val_accuracy, label=\"Resnet Only\")\n",
        "    plt.plot(bert.val_accuracy, label=\"Bert Only\")\n",
        "    plt.plot(densenet.val_accuracy, label=\"Densenet Only\")\n",
        "    plt.title(\"Validation Accuracy\")\n",
        "    plt.legend()\n",
        "    plt.show()"
      ]
    },
    {
      "cell_type": "code",
      "execution_count": 9,
      "id": "401a6815",
      "metadata": {
        "id": "401a6815",
        "colab": {
          "base_uri": "https://localhost:8080/"
        },
        "outputId": "1f39609d-6b92-47be-e9bf-93fcaec5d1a4"
      },
      "outputs": [
        {
          "output_type": "stream",
          "name": "stderr",
          "text": [
            "/usr/local/lib/python3.10/dist-packages/torch/nn/modules/transformer.py:306: UserWarning: enable_nested_tensor is True, but self.use_nested_tensor is False because encoder_layer.self_attn.batch_first was not True(use batch_first for better inference performance)\n",
            "  warnings.warn(f\"enable_nested_tensor is True, but self.use_nested_tensor is False because {why_not_sparsity_fast_path}\")\n"
          ]
        },
        {
          "output_type": "stream",
          "name": "stdout",
          "text": [
            "===== Data Info =====\n",
            "tag\n",
            "positive    2388\n",
            "negative    1193\n",
            "neutral      419\n",
            "Name: count, dtype: int64\n",
            "\n",
            "Train size: 3200\n",
            "Val size: 800\n",
            "Test size: 511 \n",
            "\n",
            "Loading dataset...\n",
            "\n",
            "===== Traning Info =====\n",
            "Device: cuda\n",
            "Batch size: 16\n",
            "Model: BertDensenetWithCrossAttention\n",
            "\n",
            "==== Starting Train ====\n"
          ]
        },
        {
          "output_type": "stream",
          "name": "stderr",
          "text": [
            "100%|██████████| 200/200 [02:02<00:00,  1.63it/s]\n"
          ]
        },
        {
          "output_type": "stream",
          "name": "stdout",
          "text": [
            "Train Epoch 1\n",
            "Train set: \n",
            "Loss: 0.8073154719173908, Accuracy: 0.6359375\n",
            "Valid set: \n",
            "Loss: 0.7008728605508804, Accuracy: 0.71, Precision: 0.6572816618271163, Recall: 0.5567486274662806, F1: 0.5576215136129004\n"
          ]
        },
        {
          "output_type": "stream",
          "name": "stderr",
          "text": [
            "100%|██████████| 200/200 [02:02<00:00,  1.63it/s]\n"
          ]
        },
        {
          "output_type": "stream",
          "name": "stdout",
          "text": [
            "Train Epoch 2\n",
            "Train set: \n",
            "Loss: 0.5327374066412449, Accuracy: 0.7846875\n",
            "Valid set: \n",
            "Loss: 0.7117498993873597, Accuracy: 0.715, Precision: 0.6480306125663712, Recall: 0.5772191062919193, F1: 0.5797513004264059\n"
          ]
        },
        {
          "output_type": "stream",
          "name": "stderr",
          "text": [
            "100%|██████████| 200/200 [02:02<00:00,  1.64it/s]\n"
          ]
        },
        {
          "output_type": "stream",
          "name": "stdout",
          "text": [
            "Train Epoch 3\n",
            "Train set: \n",
            "Loss: 0.33996938541531563, Accuracy: 0.8784375\n",
            "Valid set: \n",
            "Loss: 0.8082500898838043, Accuracy: 0.7025, Precision: 0.6306510453151383, Recall: 0.5888046532362928, F1: 0.5915798686052978\n"
          ]
        },
        {
          "output_type": "stream",
          "name": "stderr",
          "text": [
            "100%|██████████| 200/200 [02:02<00:00,  1.63it/s]\n"
          ]
        },
        {
          "output_type": "stream",
          "name": "stdout",
          "text": [
            "Train Epoch 4\n",
            "Train set: \n",
            "Loss: 0.19753863405436278, Accuracy: 0.9378125\n",
            "Valid set: \n",
            "Loss: 0.8785968056321144, Accuracy: 0.70625, Precision: 0.6102511127498481, Recall: 0.592125469548204, F1: 0.5996495983957516\n",
            "Early stop...\n",
            "The training epoch is 4\n",
            "Choose model with best accuracy: 0.715, with:\n",
            "Precision: 0.6480306125663712\n",
            "Recall: 0.5772191062919193\n",
            "F1: 0.5797513004264059\n",
            "Training time: 563.9655928611755\n",
            "Predict and save test result...\n"
          ]
        },
        {
          "output_type": "stream",
          "name": "stderr",
          "text": [
            "100%|██████████| 32/32 [00:11<00:00,  2.79it/s]"
          ]
        },
        {
          "output_type": "stream",
          "name": "stdout",
          "text": [
            "Save successfully!\n"
          ]
        },
        {
          "output_type": "stream",
          "name": "stderr",
          "text": [
            "\n"
          ]
        }
      ],
      "source": [
        "import time\n",
        "\n",
        "if __name__ == \"__main__\":\n",
        "    model = Model(model=3)\n",
        "\n",
        "    start_time = time.time()\n",
        "    model.train()\n",
        "    end_time = time.time()\n",
        "\n",
        "    print(\"Training time:\", end_time - start_time)\n",
        "    model.save_test_result()"
      ]
    }
  ],
  "metadata": {
    "accelerator": "GPU",
    "colab": {
      "gpuType": "T4",
      "provenance": [],
      "machine_shape": "hm"
    },
    "kaggle": {
      "accelerator": "gpu",
      "dataSources": [
        {
          "datasetId": 4372797,
          "sourceId": 7508232,
          "sourceType": "datasetVersion"
        }
      ],
      "dockerImageVersionId": 30636,
      "isGpuEnabled": true,
      "isInternetEnabled": true,
      "language": "python",
      "sourceType": "notebook"
    },
    "kernelspec": {
      "display_name": "Python 3",
      "name": "python3"
    },
    "language_info": {
      "codemirror_mode": {
        "name": "ipython",
        "version": 3
      },
      "file_extension": ".py",
      "mimetype": "text/x-python",
      "name": "python",
      "nbconvert_exporter": "python",
      "pygments_lexer": "ipython3",
      "version": "3.10.12"
    },
    "papermill": {
      "default_parameters": {},
      "duration": 4645.977891,
      "end_time": "2024-01-31T11:46:27.497060",
      "environment_variables": {},
      "exception": null,
      "input_path": "__notebook__.ipynb",
      "output_path": "__notebook__.ipynb",
      "parameters": {},
      "start_time": "2024-01-31T10:29:01.519169",
      "version": "2.4.0"
    },
    "widgets": {
      "application/vnd.jupyter.widget-state+json": {
        "0e313f2631bd4a13bb70670c9beaedbd": {
          "model_module": "@jupyter-widgets/controls",
          "model_name": "HBoxModel",
          "model_module_version": "1.5.0",
          "state": {
            "_dom_classes": [],
            "_model_module": "@jupyter-widgets/controls",
            "_model_module_version": "1.5.0",
            "_model_name": "HBoxModel",
            "_view_count": null,
            "_view_module": "@jupyter-widgets/controls",
            "_view_module_version": "1.5.0",
            "_view_name": "HBoxView",
            "box_style": "",
            "children": [
              "IPY_MODEL_fae0f2ce1a784304a551452588cef059",
              "IPY_MODEL_061de959e6fd4d8fbbb8cc1ece30b47f",
              "IPY_MODEL_51ed8a43bf9d46ff99000f6a77bb6483"
            ],
            "layout": "IPY_MODEL_f5786fe2869642a482f69e2c83d0c6fa"
          }
        },
        "fae0f2ce1a784304a551452588cef059": {
          "model_module": "@jupyter-widgets/controls",
          "model_name": "HTMLModel",
          "model_module_version": "1.5.0",
          "state": {
            "_dom_classes": [],
            "_model_module": "@jupyter-widgets/controls",
            "_model_module_version": "1.5.0",
            "_model_name": "HTMLModel",
            "_view_count": null,
            "_view_module": "@jupyter-widgets/controls",
            "_view_module_version": "1.5.0",
            "_view_name": "HTMLView",
            "description": "",
            "description_tooltip": null,
            "layout": "IPY_MODEL_4f4d819e1ece49beb41804963af61e31",
            "placeholder": "​",
            "style": "IPY_MODEL_df0c62f915e440d39fc1aa11b7f0fb7e",
            "value": "config.json: 100%"
          }
        },
        "061de959e6fd4d8fbbb8cc1ece30b47f": {
          "model_module": "@jupyter-widgets/controls",
          "model_name": "FloatProgressModel",
          "model_module_version": "1.5.0",
          "state": {
            "_dom_classes": [],
            "_model_module": "@jupyter-widgets/controls",
            "_model_module_version": "1.5.0",
            "_model_name": "FloatProgressModel",
            "_view_count": null,
            "_view_module": "@jupyter-widgets/controls",
            "_view_module_version": "1.5.0",
            "_view_name": "ProgressView",
            "bar_style": "success",
            "description": "",
            "description_tooltip": null,
            "layout": "IPY_MODEL_4e8742a4a5ef4d099152b664fc833e68",
            "max": 570,
            "min": 0,
            "orientation": "horizontal",
            "style": "IPY_MODEL_6882699f261d456cbd5b678490b7bb24",
            "value": 570
          }
        },
        "51ed8a43bf9d46ff99000f6a77bb6483": {
          "model_module": "@jupyter-widgets/controls",
          "model_name": "HTMLModel",
          "model_module_version": "1.5.0",
          "state": {
            "_dom_classes": [],
            "_model_module": "@jupyter-widgets/controls",
            "_model_module_version": "1.5.0",
            "_model_name": "HTMLModel",
            "_view_count": null,
            "_view_module": "@jupyter-widgets/controls",
            "_view_module_version": "1.5.0",
            "_view_name": "HTMLView",
            "description": "",
            "description_tooltip": null,
            "layout": "IPY_MODEL_6d83bb724d274ad3bf5b2c562fc41e0f",
            "placeholder": "​",
            "style": "IPY_MODEL_9b8d1c4d1f1e4443864059939d2fb0c3",
            "value": " 570/570 [00:00&lt;00:00, 46.5kB/s]"
          }
        },
        "f5786fe2869642a482f69e2c83d0c6fa": {
          "model_module": "@jupyter-widgets/base",
          "model_name": "LayoutModel",
          "model_module_version": "1.2.0",
          "state": {
            "_model_module": "@jupyter-widgets/base",
            "_model_module_version": "1.2.0",
            "_model_name": "LayoutModel",
            "_view_count": null,
            "_view_module": "@jupyter-widgets/base",
            "_view_module_version": "1.2.0",
            "_view_name": "LayoutView",
            "align_content": null,
            "align_items": null,
            "align_self": null,
            "border": null,
            "bottom": null,
            "display": null,
            "flex": null,
            "flex_flow": null,
            "grid_area": null,
            "grid_auto_columns": null,
            "grid_auto_flow": null,
            "grid_auto_rows": null,
            "grid_column": null,
            "grid_gap": null,
            "grid_row": null,
            "grid_template_areas": null,
            "grid_template_columns": null,
            "grid_template_rows": null,
            "height": null,
            "justify_content": null,
            "justify_items": null,
            "left": null,
            "margin": null,
            "max_height": null,
            "max_width": null,
            "min_height": null,
            "min_width": null,
            "object_fit": null,
            "object_position": null,
            "order": null,
            "overflow": null,
            "overflow_x": null,
            "overflow_y": null,
            "padding": null,
            "right": null,
            "top": null,
            "visibility": null,
            "width": null
          }
        },
        "4f4d819e1ece49beb41804963af61e31": {
          "model_module": "@jupyter-widgets/base",
          "model_name": "LayoutModel",
          "model_module_version": "1.2.0",
          "state": {
            "_model_module": "@jupyter-widgets/base",
            "_model_module_version": "1.2.0",
            "_model_name": "LayoutModel",
            "_view_count": null,
            "_view_module": "@jupyter-widgets/base",
            "_view_module_version": "1.2.0",
            "_view_name": "LayoutView",
            "align_content": null,
            "align_items": null,
            "align_self": null,
            "border": null,
            "bottom": null,
            "display": null,
            "flex": null,
            "flex_flow": null,
            "grid_area": null,
            "grid_auto_columns": null,
            "grid_auto_flow": null,
            "grid_auto_rows": null,
            "grid_column": null,
            "grid_gap": null,
            "grid_row": null,
            "grid_template_areas": null,
            "grid_template_columns": null,
            "grid_template_rows": null,
            "height": null,
            "justify_content": null,
            "justify_items": null,
            "left": null,
            "margin": null,
            "max_height": null,
            "max_width": null,
            "min_height": null,
            "min_width": null,
            "object_fit": null,
            "object_position": null,
            "order": null,
            "overflow": null,
            "overflow_x": null,
            "overflow_y": null,
            "padding": null,
            "right": null,
            "top": null,
            "visibility": null,
            "width": null
          }
        },
        "df0c62f915e440d39fc1aa11b7f0fb7e": {
          "model_module": "@jupyter-widgets/controls",
          "model_name": "DescriptionStyleModel",
          "model_module_version": "1.5.0",
          "state": {
            "_model_module": "@jupyter-widgets/controls",
            "_model_module_version": "1.5.0",
            "_model_name": "DescriptionStyleModel",
            "_view_count": null,
            "_view_module": "@jupyter-widgets/base",
            "_view_module_version": "1.2.0",
            "_view_name": "StyleView",
            "description_width": ""
          }
        },
        "4e8742a4a5ef4d099152b664fc833e68": {
          "model_module": "@jupyter-widgets/base",
          "model_name": "LayoutModel",
          "model_module_version": "1.2.0",
          "state": {
            "_model_module": "@jupyter-widgets/base",
            "_model_module_version": "1.2.0",
            "_model_name": "LayoutModel",
            "_view_count": null,
            "_view_module": "@jupyter-widgets/base",
            "_view_module_version": "1.2.0",
            "_view_name": "LayoutView",
            "align_content": null,
            "align_items": null,
            "align_self": null,
            "border": null,
            "bottom": null,
            "display": null,
            "flex": null,
            "flex_flow": null,
            "grid_area": null,
            "grid_auto_columns": null,
            "grid_auto_flow": null,
            "grid_auto_rows": null,
            "grid_column": null,
            "grid_gap": null,
            "grid_row": null,
            "grid_template_areas": null,
            "grid_template_columns": null,
            "grid_template_rows": null,
            "height": null,
            "justify_content": null,
            "justify_items": null,
            "left": null,
            "margin": null,
            "max_height": null,
            "max_width": null,
            "min_height": null,
            "min_width": null,
            "object_fit": null,
            "object_position": null,
            "order": null,
            "overflow": null,
            "overflow_x": null,
            "overflow_y": null,
            "padding": null,
            "right": null,
            "top": null,
            "visibility": null,
            "width": null
          }
        },
        "6882699f261d456cbd5b678490b7bb24": {
          "model_module": "@jupyter-widgets/controls",
          "model_name": "ProgressStyleModel",
          "model_module_version": "1.5.0",
          "state": {
            "_model_module": "@jupyter-widgets/controls",
            "_model_module_version": "1.5.0",
            "_model_name": "ProgressStyleModel",
            "_view_count": null,
            "_view_module": "@jupyter-widgets/base",
            "_view_module_version": "1.2.0",
            "_view_name": "StyleView",
            "bar_color": null,
            "description_width": ""
          }
        },
        "6d83bb724d274ad3bf5b2c562fc41e0f": {
          "model_module": "@jupyter-widgets/base",
          "model_name": "LayoutModel",
          "model_module_version": "1.2.0",
          "state": {
            "_model_module": "@jupyter-widgets/base",
            "_model_module_version": "1.2.0",
            "_model_name": "LayoutModel",
            "_view_count": null,
            "_view_module": "@jupyter-widgets/base",
            "_view_module_version": "1.2.0",
            "_view_name": "LayoutView",
            "align_content": null,
            "align_items": null,
            "align_self": null,
            "border": null,
            "bottom": null,
            "display": null,
            "flex": null,
            "flex_flow": null,
            "grid_area": null,
            "grid_auto_columns": null,
            "grid_auto_flow": null,
            "grid_auto_rows": null,
            "grid_column": null,
            "grid_gap": null,
            "grid_row": null,
            "grid_template_areas": null,
            "grid_template_columns": null,
            "grid_template_rows": null,
            "height": null,
            "justify_content": null,
            "justify_items": null,
            "left": null,
            "margin": null,
            "max_height": null,
            "max_width": null,
            "min_height": null,
            "min_width": null,
            "object_fit": null,
            "object_position": null,
            "order": null,
            "overflow": null,
            "overflow_x": null,
            "overflow_y": null,
            "padding": null,
            "right": null,
            "top": null,
            "visibility": null,
            "width": null
          }
        },
        "9b8d1c4d1f1e4443864059939d2fb0c3": {
          "model_module": "@jupyter-widgets/controls",
          "model_name": "DescriptionStyleModel",
          "model_module_version": "1.5.0",
          "state": {
            "_model_module": "@jupyter-widgets/controls",
            "_model_module_version": "1.5.0",
            "_model_name": "DescriptionStyleModel",
            "_view_count": null,
            "_view_module": "@jupyter-widgets/base",
            "_view_module_version": "1.2.0",
            "_view_name": "StyleView",
            "description_width": ""
          }
        },
        "dc6d9ce37401488fa14aca4684f90b52": {
          "model_module": "@jupyter-widgets/controls",
          "model_name": "HBoxModel",
          "model_module_version": "1.5.0",
          "state": {
            "_dom_classes": [],
            "_model_module": "@jupyter-widgets/controls",
            "_model_module_version": "1.5.0",
            "_model_name": "HBoxModel",
            "_view_count": null,
            "_view_module": "@jupyter-widgets/controls",
            "_view_module_version": "1.5.0",
            "_view_name": "HBoxView",
            "box_style": "",
            "children": [
              "IPY_MODEL_47140342e86e4cc1b334a1930ca10b3e",
              "IPY_MODEL_ec0f8bdd26484c02b78d2bbc82810465",
              "IPY_MODEL_e039b01c519c4b61ac9d9bf90a43c800"
            ],
            "layout": "IPY_MODEL_3acc12d5f5144a86a85b7974e8314cfd"
          }
        },
        "47140342e86e4cc1b334a1930ca10b3e": {
          "model_module": "@jupyter-widgets/controls",
          "model_name": "HTMLModel",
          "model_module_version": "1.5.0",
          "state": {
            "_dom_classes": [],
            "_model_module": "@jupyter-widgets/controls",
            "_model_module_version": "1.5.0",
            "_model_name": "HTMLModel",
            "_view_count": null,
            "_view_module": "@jupyter-widgets/controls",
            "_view_module_version": "1.5.0",
            "_view_name": "HTMLView",
            "description": "",
            "description_tooltip": null,
            "layout": "IPY_MODEL_966abbfa9c924f148f820fad7950f7dc",
            "placeholder": "​",
            "style": "IPY_MODEL_4cbf0e2e655642dc995bfabb3ee50e7a",
            "value": "model.safetensors: 100%"
          }
        },
        "ec0f8bdd26484c02b78d2bbc82810465": {
          "model_module": "@jupyter-widgets/controls",
          "model_name": "FloatProgressModel",
          "model_module_version": "1.5.0",
          "state": {
            "_dom_classes": [],
            "_model_module": "@jupyter-widgets/controls",
            "_model_module_version": "1.5.0",
            "_model_name": "FloatProgressModel",
            "_view_count": null,
            "_view_module": "@jupyter-widgets/controls",
            "_view_module_version": "1.5.0",
            "_view_name": "ProgressView",
            "bar_style": "success",
            "description": "",
            "description_tooltip": null,
            "layout": "IPY_MODEL_71c540aa514b438c8684a82944a39631",
            "max": 440449768,
            "min": 0,
            "orientation": "horizontal",
            "style": "IPY_MODEL_76c331496f7e458b9258160a22328779",
            "value": 440449768
          }
        },
        "e039b01c519c4b61ac9d9bf90a43c800": {
          "model_module": "@jupyter-widgets/controls",
          "model_name": "HTMLModel",
          "model_module_version": "1.5.0",
          "state": {
            "_dom_classes": [],
            "_model_module": "@jupyter-widgets/controls",
            "_model_module_version": "1.5.0",
            "_model_name": "HTMLModel",
            "_view_count": null,
            "_view_module": "@jupyter-widgets/controls",
            "_view_module_version": "1.5.0",
            "_view_name": "HTMLView",
            "description": "",
            "description_tooltip": null,
            "layout": "IPY_MODEL_ffd9e633af5a4ed3888b1088063e43fa",
            "placeholder": "​",
            "style": "IPY_MODEL_97b6712833e84c87aa83d5fadef038cf",
            "value": " 440M/440M [00:03&lt;00:00, 168MB/s]"
          }
        },
        "3acc12d5f5144a86a85b7974e8314cfd": {
          "model_module": "@jupyter-widgets/base",
          "model_name": "LayoutModel",
          "model_module_version": "1.2.0",
          "state": {
            "_model_module": "@jupyter-widgets/base",
            "_model_module_version": "1.2.0",
            "_model_name": "LayoutModel",
            "_view_count": null,
            "_view_module": "@jupyter-widgets/base",
            "_view_module_version": "1.2.0",
            "_view_name": "LayoutView",
            "align_content": null,
            "align_items": null,
            "align_self": null,
            "border": null,
            "bottom": null,
            "display": null,
            "flex": null,
            "flex_flow": null,
            "grid_area": null,
            "grid_auto_columns": null,
            "grid_auto_flow": null,
            "grid_auto_rows": null,
            "grid_column": null,
            "grid_gap": null,
            "grid_row": null,
            "grid_template_areas": null,
            "grid_template_columns": null,
            "grid_template_rows": null,
            "height": null,
            "justify_content": null,
            "justify_items": null,
            "left": null,
            "margin": null,
            "max_height": null,
            "max_width": null,
            "min_height": null,
            "min_width": null,
            "object_fit": null,
            "object_position": null,
            "order": null,
            "overflow": null,
            "overflow_x": null,
            "overflow_y": null,
            "padding": null,
            "right": null,
            "top": null,
            "visibility": null,
            "width": null
          }
        },
        "966abbfa9c924f148f820fad7950f7dc": {
          "model_module": "@jupyter-widgets/base",
          "model_name": "LayoutModel",
          "model_module_version": "1.2.0",
          "state": {
            "_model_module": "@jupyter-widgets/base",
            "_model_module_version": "1.2.0",
            "_model_name": "LayoutModel",
            "_view_count": null,
            "_view_module": "@jupyter-widgets/base",
            "_view_module_version": "1.2.0",
            "_view_name": "LayoutView",
            "align_content": null,
            "align_items": null,
            "align_self": null,
            "border": null,
            "bottom": null,
            "display": null,
            "flex": null,
            "flex_flow": null,
            "grid_area": null,
            "grid_auto_columns": null,
            "grid_auto_flow": null,
            "grid_auto_rows": null,
            "grid_column": null,
            "grid_gap": null,
            "grid_row": null,
            "grid_template_areas": null,
            "grid_template_columns": null,
            "grid_template_rows": null,
            "height": null,
            "justify_content": null,
            "justify_items": null,
            "left": null,
            "margin": null,
            "max_height": null,
            "max_width": null,
            "min_height": null,
            "min_width": null,
            "object_fit": null,
            "object_position": null,
            "order": null,
            "overflow": null,
            "overflow_x": null,
            "overflow_y": null,
            "padding": null,
            "right": null,
            "top": null,
            "visibility": null,
            "width": null
          }
        },
        "4cbf0e2e655642dc995bfabb3ee50e7a": {
          "model_module": "@jupyter-widgets/controls",
          "model_name": "DescriptionStyleModel",
          "model_module_version": "1.5.0",
          "state": {
            "_model_module": "@jupyter-widgets/controls",
            "_model_module_version": "1.5.0",
            "_model_name": "DescriptionStyleModel",
            "_view_count": null,
            "_view_module": "@jupyter-widgets/base",
            "_view_module_version": "1.2.0",
            "_view_name": "StyleView",
            "description_width": ""
          }
        },
        "71c540aa514b438c8684a82944a39631": {
          "model_module": "@jupyter-widgets/base",
          "model_name": "LayoutModel",
          "model_module_version": "1.2.0",
          "state": {
            "_model_module": "@jupyter-widgets/base",
            "_model_module_version": "1.2.0",
            "_model_name": "LayoutModel",
            "_view_count": null,
            "_view_module": "@jupyter-widgets/base",
            "_view_module_version": "1.2.0",
            "_view_name": "LayoutView",
            "align_content": null,
            "align_items": null,
            "align_self": null,
            "border": null,
            "bottom": null,
            "display": null,
            "flex": null,
            "flex_flow": null,
            "grid_area": null,
            "grid_auto_columns": null,
            "grid_auto_flow": null,
            "grid_auto_rows": null,
            "grid_column": null,
            "grid_gap": null,
            "grid_row": null,
            "grid_template_areas": null,
            "grid_template_columns": null,
            "grid_template_rows": null,
            "height": null,
            "justify_content": null,
            "justify_items": null,
            "left": null,
            "margin": null,
            "max_height": null,
            "max_width": null,
            "min_height": null,
            "min_width": null,
            "object_fit": null,
            "object_position": null,
            "order": null,
            "overflow": null,
            "overflow_x": null,
            "overflow_y": null,
            "padding": null,
            "right": null,
            "top": null,
            "visibility": null,
            "width": null
          }
        },
        "76c331496f7e458b9258160a22328779": {
          "model_module": "@jupyter-widgets/controls",
          "model_name": "ProgressStyleModel",
          "model_module_version": "1.5.0",
          "state": {
            "_model_module": "@jupyter-widgets/controls",
            "_model_module_version": "1.5.0",
            "_model_name": "ProgressStyleModel",
            "_view_count": null,
            "_view_module": "@jupyter-widgets/base",
            "_view_module_version": "1.2.0",
            "_view_name": "StyleView",
            "bar_color": null,
            "description_width": ""
          }
        },
        "ffd9e633af5a4ed3888b1088063e43fa": {
          "model_module": "@jupyter-widgets/base",
          "model_name": "LayoutModel",
          "model_module_version": "1.2.0",
          "state": {
            "_model_module": "@jupyter-widgets/base",
            "_model_module_version": "1.2.0",
            "_model_name": "LayoutModel",
            "_view_count": null,
            "_view_module": "@jupyter-widgets/base",
            "_view_module_version": "1.2.0",
            "_view_name": "LayoutView",
            "align_content": null,
            "align_items": null,
            "align_self": null,
            "border": null,
            "bottom": null,
            "display": null,
            "flex": null,
            "flex_flow": null,
            "grid_area": null,
            "grid_auto_columns": null,
            "grid_auto_flow": null,
            "grid_auto_rows": null,
            "grid_column": null,
            "grid_gap": null,
            "grid_row": null,
            "grid_template_areas": null,
            "grid_template_columns": null,
            "grid_template_rows": null,
            "height": null,
            "justify_content": null,
            "justify_items": null,
            "left": null,
            "margin": null,
            "max_height": null,
            "max_width": null,
            "min_height": null,
            "min_width": null,
            "object_fit": null,
            "object_position": null,
            "order": null,
            "overflow": null,
            "overflow_x": null,
            "overflow_y": null,
            "padding": null,
            "right": null,
            "top": null,
            "visibility": null,
            "width": null
          }
        },
        "97b6712833e84c87aa83d5fadef038cf": {
          "model_module": "@jupyter-widgets/controls",
          "model_name": "DescriptionStyleModel",
          "model_module_version": "1.5.0",
          "state": {
            "_model_module": "@jupyter-widgets/controls",
            "_model_module_version": "1.5.0",
            "_model_name": "DescriptionStyleModel",
            "_view_count": null,
            "_view_module": "@jupyter-widgets/base",
            "_view_module_version": "1.2.0",
            "_view_name": "StyleView",
            "description_width": ""
          }
        },
        "474526e6bb2c47919c8b7385e964afed": {
          "model_module": "@jupyter-widgets/controls",
          "model_name": "HBoxModel",
          "model_module_version": "1.5.0",
          "state": {
            "_dom_classes": [],
            "_model_module": "@jupyter-widgets/controls",
            "_model_module_version": "1.5.0",
            "_model_name": "HBoxModel",
            "_view_count": null,
            "_view_module": "@jupyter-widgets/controls",
            "_view_module_version": "1.5.0",
            "_view_name": "HBoxView",
            "box_style": "",
            "children": [
              "IPY_MODEL_f4694c6b16f94a62b440fd047862c920",
              "IPY_MODEL_b4aa6abc2842414e930704d671b31f36",
              "IPY_MODEL_704538a058814b569553b50cb1364c53"
            ],
            "layout": "IPY_MODEL_b2e43fee2a364fd0803a331c657d33a9"
          }
        },
        "f4694c6b16f94a62b440fd047862c920": {
          "model_module": "@jupyter-widgets/controls",
          "model_name": "HTMLModel",
          "model_module_version": "1.5.0",
          "state": {
            "_dom_classes": [],
            "_model_module": "@jupyter-widgets/controls",
            "_model_module_version": "1.5.0",
            "_model_name": "HTMLModel",
            "_view_count": null,
            "_view_module": "@jupyter-widgets/controls",
            "_view_module_version": "1.5.0",
            "_view_name": "HTMLView",
            "description": "",
            "description_tooltip": null,
            "layout": "IPY_MODEL_d35b8255fc484ae6a6dc0ab1bd87d347",
            "placeholder": "​",
            "style": "IPY_MODEL_c303a02647594fb69a6f2a563318b1ee",
            "value": "tokenizer_config.json: 100%"
          }
        },
        "b4aa6abc2842414e930704d671b31f36": {
          "model_module": "@jupyter-widgets/controls",
          "model_name": "FloatProgressModel",
          "model_module_version": "1.5.0",
          "state": {
            "_dom_classes": [],
            "_model_module": "@jupyter-widgets/controls",
            "_model_module_version": "1.5.0",
            "_model_name": "FloatProgressModel",
            "_view_count": null,
            "_view_module": "@jupyter-widgets/controls",
            "_view_module_version": "1.5.0",
            "_view_name": "ProgressView",
            "bar_style": "success",
            "description": "",
            "description_tooltip": null,
            "layout": "IPY_MODEL_31c643f17db54e509e7187f1f2f4337c",
            "max": 48,
            "min": 0,
            "orientation": "horizontal",
            "style": "IPY_MODEL_bcb35a0979824ab7b242348ed27ec244",
            "value": 48
          }
        },
        "704538a058814b569553b50cb1364c53": {
          "model_module": "@jupyter-widgets/controls",
          "model_name": "HTMLModel",
          "model_module_version": "1.5.0",
          "state": {
            "_dom_classes": [],
            "_model_module": "@jupyter-widgets/controls",
            "_model_module_version": "1.5.0",
            "_model_name": "HTMLModel",
            "_view_count": null,
            "_view_module": "@jupyter-widgets/controls",
            "_view_module_version": "1.5.0",
            "_view_name": "HTMLView",
            "description": "",
            "description_tooltip": null,
            "layout": "IPY_MODEL_e2278294214343859c62ac3004f5c99a",
            "placeholder": "​",
            "style": "IPY_MODEL_70144547c4514f049f231cbc2c63eaf1",
            "value": " 48.0/48.0 [00:00&lt;00:00, 4.17kB/s]"
          }
        },
        "b2e43fee2a364fd0803a331c657d33a9": {
          "model_module": "@jupyter-widgets/base",
          "model_name": "LayoutModel",
          "model_module_version": "1.2.0",
          "state": {
            "_model_module": "@jupyter-widgets/base",
            "_model_module_version": "1.2.0",
            "_model_name": "LayoutModel",
            "_view_count": null,
            "_view_module": "@jupyter-widgets/base",
            "_view_module_version": "1.2.0",
            "_view_name": "LayoutView",
            "align_content": null,
            "align_items": null,
            "align_self": null,
            "border": null,
            "bottom": null,
            "display": null,
            "flex": null,
            "flex_flow": null,
            "grid_area": null,
            "grid_auto_columns": null,
            "grid_auto_flow": null,
            "grid_auto_rows": null,
            "grid_column": null,
            "grid_gap": null,
            "grid_row": null,
            "grid_template_areas": null,
            "grid_template_columns": null,
            "grid_template_rows": null,
            "height": null,
            "justify_content": null,
            "justify_items": null,
            "left": null,
            "margin": null,
            "max_height": null,
            "max_width": null,
            "min_height": null,
            "min_width": null,
            "object_fit": null,
            "object_position": null,
            "order": null,
            "overflow": null,
            "overflow_x": null,
            "overflow_y": null,
            "padding": null,
            "right": null,
            "top": null,
            "visibility": null,
            "width": null
          }
        },
        "d35b8255fc484ae6a6dc0ab1bd87d347": {
          "model_module": "@jupyter-widgets/base",
          "model_name": "LayoutModel",
          "model_module_version": "1.2.0",
          "state": {
            "_model_module": "@jupyter-widgets/base",
            "_model_module_version": "1.2.0",
            "_model_name": "LayoutModel",
            "_view_count": null,
            "_view_module": "@jupyter-widgets/base",
            "_view_module_version": "1.2.0",
            "_view_name": "LayoutView",
            "align_content": null,
            "align_items": null,
            "align_self": null,
            "border": null,
            "bottom": null,
            "display": null,
            "flex": null,
            "flex_flow": null,
            "grid_area": null,
            "grid_auto_columns": null,
            "grid_auto_flow": null,
            "grid_auto_rows": null,
            "grid_column": null,
            "grid_gap": null,
            "grid_row": null,
            "grid_template_areas": null,
            "grid_template_columns": null,
            "grid_template_rows": null,
            "height": null,
            "justify_content": null,
            "justify_items": null,
            "left": null,
            "margin": null,
            "max_height": null,
            "max_width": null,
            "min_height": null,
            "min_width": null,
            "object_fit": null,
            "object_position": null,
            "order": null,
            "overflow": null,
            "overflow_x": null,
            "overflow_y": null,
            "padding": null,
            "right": null,
            "top": null,
            "visibility": null,
            "width": null
          }
        },
        "c303a02647594fb69a6f2a563318b1ee": {
          "model_module": "@jupyter-widgets/controls",
          "model_name": "DescriptionStyleModel",
          "model_module_version": "1.5.0",
          "state": {
            "_model_module": "@jupyter-widgets/controls",
            "_model_module_version": "1.5.0",
            "_model_name": "DescriptionStyleModel",
            "_view_count": null,
            "_view_module": "@jupyter-widgets/base",
            "_view_module_version": "1.2.0",
            "_view_name": "StyleView",
            "description_width": ""
          }
        },
        "31c643f17db54e509e7187f1f2f4337c": {
          "model_module": "@jupyter-widgets/base",
          "model_name": "LayoutModel",
          "model_module_version": "1.2.0",
          "state": {
            "_model_module": "@jupyter-widgets/base",
            "_model_module_version": "1.2.0",
            "_model_name": "LayoutModel",
            "_view_count": null,
            "_view_module": "@jupyter-widgets/base",
            "_view_module_version": "1.2.0",
            "_view_name": "LayoutView",
            "align_content": null,
            "align_items": null,
            "align_self": null,
            "border": null,
            "bottom": null,
            "display": null,
            "flex": null,
            "flex_flow": null,
            "grid_area": null,
            "grid_auto_columns": null,
            "grid_auto_flow": null,
            "grid_auto_rows": null,
            "grid_column": null,
            "grid_gap": null,
            "grid_row": null,
            "grid_template_areas": null,
            "grid_template_columns": null,
            "grid_template_rows": null,
            "height": null,
            "justify_content": null,
            "justify_items": null,
            "left": null,
            "margin": null,
            "max_height": null,
            "max_width": null,
            "min_height": null,
            "min_width": null,
            "object_fit": null,
            "object_position": null,
            "order": null,
            "overflow": null,
            "overflow_x": null,
            "overflow_y": null,
            "padding": null,
            "right": null,
            "top": null,
            "visibility": null,
            "width": null
          }
        },
        "bcb35a0979824ab7b242348ed27ec244": {
          "model_module": "@jupyter-widgets/controls",
          "model_name": "ProgressStyleModel",
          "model_module_version": "1.5.0",
          "state": {
            "_model_module": "@jupyter-widgets/controls",
            "_model_module_version": "1.5.0",
            "_model_name": "ProgressStyleModel",
            "_view_count": null,
            "_view_module": "@jupyter-widgets/base",
            "_view_module_version": "1.2.0",
            "_view_name": "StyleView",
            "bar_color": null,
            "description_width": ""
          }
        },
        "e2278294214343859c62ac3004f5c99a": {
          "model_module": "@jupyter-widgets/base",
          "model_name": "LayoutModel",
          "model_module_version": "1.2.0",
          "state": {
            "_model_module": "@jupyter-widgets/base",
            "_model_module_version": "1.2.0",
            "_model_name": "LayoutModel",
            "_view_count": null,
            "_view_module": "@jupyter-widgets/base",
            "_view_module_version": "1.2.0",
            "_view_name": "LayoutView",
            "align_content": null,
            "align_items": null,
            "align_self": null,
            "border": null,
            "bottom": null,
            "display": null,
            "flex": null,
            "flex_flow": null,
            "grid_area": null,
            "grid_auto_columns": null,
            "grid_auto_flow": null,
            "grid_auto_rows": null,
            "grid_column": null,
            "grid_gap": null,
            "grid_row": null,
            "grid_template_areas": null,
            "grid_template_columns": null,
            "grid_template_rows": null,
            "height": null,
            "justify_content": null,
            "justify_items": null,
            "left": null,
            "margin": null,
            "max_height": null,
            "max_width": null,
            "min_height": null,
            "min_width": null,
            "object_fit": null,
            "object_position": null,
            "order": null,
            "overflow": null,
            "overflow_x": null,
            "overflow_y": null,
            "padding": null,
            "right": null,
            "top": null,
            "visibility": null,
            "width": null
          }
        },
        "70144547c4514f049f231cbc2c63eaf1": {
          "model_module": "@jupyter-widgets/controls",
          "model_name": "DescriptionStyleModel",
          "model_module_version": "1.5.0",
          "state": {
            "_model_module": "@jupyter-widgets/controls",
            "_model_module_version": "1.5.0",
            "_model_name": "DescriptionStyleModel",
            "_view_count": null,
            "_view_module": "@jupyter-widgets/base",
            "_view_module_version": "1.2.0",
            "_view_name": "StyleView",
            "description_width": ""
          }
        },
        "c0f1779d577b4c6d9ea1b3d243f0232a": {
          "model_module": "@jupyter-widgets/controls",
          "model_name": "HBoxModel",
          "model_module_version": "1.5.0",
          "state": {
            "_dom_classes": [],
            "_model_module": "@jupyter-widgets/controls",
            "_model_module_version": "1.5.0",
            "_model_name": "HBoxModel",
            "_view_count": null,
            "_view_module": "@jupyter-widgets/controls",
            "_view_module_version": "1.5.0",
            "_view_name": "HBoxView",
            "box_style": "",
            "children": [
              "IPY_MODEL_b5b21f1af1ac451fb7314eb87bd76675",
              "IPY_MODEL_ed02539fee8e4ada970d9639b56fe9c2",
              "IPY_MODEL_315358c1b4924533b558d5107fa1de71"
            ],
            "layout": "IPY_MODEL_f6b9c392e9fd4f118997490f89b00a7f"
          }
        },
        "b5b21f1af1ac451fb7314eb87bd76675": {
          "model_module": "@jupyter-widgets/controls",
          "model_name": "HTMLModel",
          "model_module_version": "1.5.0",
          "state": {
            "_dom_classes": [],
            "_model_module": "@jupyter-widgets/controls",
            "_model_module_version": "1.5.0",
            "_model_name": "HTMLModel",
            "_view_count": null,
            "_view_module": "@jupyter-widgets/controls",
            "_view_module_version": "1.5.0",
            "_view_name": "HTMLView",
            "description": "",
            "description_tooltip": null,
            "layout": "IPY_MODEL_525855e6a6ca4a9382e5bb8dad1a564e",
            "placeholder": "​",
            "style": "IPY_MODEL_40d0c4c809034fb4ab638f644e6d47d7",
            "value": "vocab.txt: 100%"
          }
        },
        "ed02539fee8e4ada970d9639b56fe9c2": {
          "model_module": "@jupyter-widgets/controls",
          "model_name": "FloatProgressModel",
          "model_module_version": "1.5.0",
          "state": {
            "_dom_classes": [],
            "_model_module": "@jupyter-widgets/controls",
            "_model_module_version": "1.5.0",
            "_model_name": "FloatProgressModel",
            "_view_count": null,
            "_view_module": "@jupyter-widgets/controls",
            "_view_module_version": "1.5.0",
            "_view_name": "ProgressView",
            "bar_style": "success",
            "description": "",
            "description_tooltip": null,
            "layout": "IPY_MODEL_86c2e02f8af44c1695c50a750e1bfb44",
            "max": 231508,
            "min": 0,
            "orientation": "horizontal",
            "style": "IPY_MODEL_1827806b54334e0caad92100cfffa554",
            "value": 231508
          }
        },
        "315358c1b4924533b558d5107fa1de71": {
          "model_module": "@jupyter-widgets/controls",
          "model_name": "HTMLModel",
          "model_module_version": "1.5.0",
          "state": {
            "_dom_classes": [],
            "_model_module": "@jupyter-widgets/controls",
            "_model_module_version": "1.5.0",
            "_model_name": "HTMLModel",
            "_view_count": null,
            "_view_module": "@jupyter-widgets/controls",
            "_view_module_version": "1.5.0",
            "_view_name": "HTMLView",
            "description": "",
            "description_tooltip": null,
            "layout": "IPY_MODEL_8d72bc45039a410b9647373517a39275",
            "placeholder": "​",
            "style": "IPY_MODEL_cc93f6299d844f74b89a448c83dc9a9c",
            "value": " 232k/232k [00:00&lt;00:00, 362kB/s]"
          }
        },
        "f6b9c392e9fd4f118997490f89b00a7f": {
          "model_module": "@jupyter-widgets/base",
          "model_name": "LayoutModel",
          "model_module_version": "1.2.0",
          "state": {
            "_model_module": "@jupyter-widgets/base",
            "_model_module_version": "1.2.0",
            "_model_name": "LayoutModel",
            "_view_count": null,
            "_view_module": "@jupyter-widgets/base",
            "_view_module_version": "1.2.0",
            "_view_name": "LayoutView",
            "align_content": null,
            "align_items": null,
            "align_self": null,
            "border": null,
            "bottom": null,
            "display": null,
            "flex": null,
            "flex_flow": null,
            "grid_area": null,
            "grid_auto_columns": null,
            "grid_auto_flow": null,
            "grid_auto_rows": null,
            "grid_column": null,
            "grid_gap": null,
            "grid_row": null,
            "grid_template_areas": null,
            "grid_template_columns": null,
            "grid_template_rows": null,
            "height": null,
            "justify_content": null,
            "justify_items": null,
            "left": null,
            "margin": null,
            "max_height": null,
            "max_width": null,
            "min_height": null,
            "min_width": null,
            "object_fit": null,
            "object_position": null,
            "order": null,
            "overflow": null,
            "overflow_x": null,
            "overflow_y": null,
            "padding": null,
            "right": null,
            "top": null,
            "visibility": null,
            "width": null
          }
        },
        "525855e6a6ca4a9382e5bb8dad1a564e": {
          "model_module": "@jupyter-widgets/base",
          "model_name": "LayoutModel",
          "model_module_version": "1.2.0",
          "state": {
            "_model_module": "@jupyter-widgets/base",
            "_model_module_version": "1.2.0",
            "_model_name": "LayoutModel",
            "_view_count": null,
            "_view_module": "@jupyter-widgets/base",
            "_view_module_version": "1.2.0",
            "_view_name": "LayoutView",
            "align_content": null,
            "align_items": null,
            "align_self": null,
            "border": null,
            "bottom": null,
            "display": null,
            "flex": null,
            "flex_flow": null,
            "grid_area": null,
            "grid_auto_columns": null,
            "grid_auto_flow": null,
            "grid_auto_rows": null,
            "grid_column": null,
            "grid_gap": null,
            "grid_row": null,
            "grid_template_areas": null,
            "grid_template_columns": null,
            "grid_template_rows": null,
            "height": null,
            "justify_content": null,
            "justify_items": null,
            "left": null,
            "margin": null,
            "max_height": null,
            "max_width": null,
            "min_height": null,
            "min_width": null,
            "object_fit": null,
            "object_position": null,
            "order": null,
            "overflow": null,
            "overflow_x": null,
            "overflow_y": null,
            "padding": null,
            "right": null,
            "top": null,
            "visibility": null,
            "width": null
          }
        },
        "40d0c4c809034fb4ab638f644e6d47d7": {
          "model_module": "@jupyter-widgets/controls",
          "model_name": "DescriptionStyleModel",
          "model_module_version": "1.5.0",
          "state": {
            "_model_module": "@jupyter-widgets/controls",
            "_model_module_version": "1.5.0",
            "_model_name": "DescriptionStyleModel",
            "_view_count": null,
            "_view_module": "@jupyter-widgets/base",
            "_view_module_version": "1.2.0",
            "_view_name": "StyleView",
            "description_width": ""
          }
        },
        "86c2e02f8af44c1695c50a750e1bfb44": {
          "model_module": "@jupyter-widgets/base",
          "model_name": "LayoutModel",
          "model_module_version": "1.2.0",
          "state": {
            "_model_module": "@jupyter-widgets/base",
            "_model_module_version": "1.2.0",
            "_model_name": "LayoutModel",
            "_view_count": null,
            "_view_module": "@jupyter-widgets/base",
            "_view_module_version": "1.2.0",
            "_view_name": "LayoutView",
            "align_content": null,
            "align_items": null,
            "align_self": null,
            "border": null,
            "bottom": null,
            "display": null,
            "flex": null,
            "flex_flow": null,
            "grid_area": null,
            "grid_auto_columns": null,
            "grid_auto_flow": null,
            "grid_auto_rows": null,
            "grid_column": null,
            "grid_gap": null,
            "grid_row": null,
            "grid_template_areas": null,
            "grid_template_columns": null,
            "grid_template_rows": null,
            "height": null,
            "justify_content": null,
            "justify_items": null,
            "left": null,
            "margin": null,
            "max_height": null,
            "max_width": null,
            "min_height": null,
            "min_width": null,
            "object_fit": null,
            "object_position": null,
            "order": null,
            "overflow": null,
            "overflow_x": null,
            "overflow_y": null,
            "padding": null,
            "right": null,
            "top": null,
            "visibility": null,
            "width": null
          }
        },
        "1827806b54334e0caad92100cfffa554": {
          "model_module": "@jupyter-widgets/controls",
          "model_name": "ProgressStyleModel",
          "model_module_version": "1.5.0",
          "state": {
            "_model_module": "@jupyter-widgets/controls",
            "_model_module_version": "1.5.0",
            "_model_name": "ProgressStyleModel",
            "_view_count": null,
            "_view_module": "@jupyter-widgets/base",
            "_view_module_version": "1.2.0",
            "_view_name": "StyleView",
            "bar_color": null,
            "description_width": ""
          }
        },
        "8d72bc45039a410b9647373517a39275": {
          "model_module": "@jupyter-widgets/base",
          "model_name": "LayoutModel",
          "model_module_version": "1.2.0",
          "state": {
            "_model_module": "@jupyter-widgets/base",
            "_model_module_version": "1.2.0",
            "_model_name": "LayoutModel",
            "_view_count": null,
            "_view_module": "@jupyter-widgets/base",
            "_view_module_version": "1.2.0",
            "_view_name": "LayoutView",
            "align_content": null,
            "align_items": null,
            "align_self": null,
            "border": null,
            "bottom": null,
            "display": null,
            "flex": null,
            "flex_flow": null,
            "grid_area": null,
            "grid_auto_columns": null,
            "grid_auto_flow": null,
            "grid_auto_rows": null,
            "grid_column": null,
            "grid_gap": null,
            "grid_row": null,
            "grid_template_areas": null,
            "grid_template_columns": null,
            "grid_template_rows": null,
            "height": null,
            "justify_content": null,
            "justify_items": null,
            "left": null,
            "margin": null,
            "max_height": null,
            "max_width": null,
            "min_height": null,
            "min_width": null,
            "object_fit": null,
            "object_position": null,
            "order": null,
            "overflow": null,
            "overflow_x": null,
            "overflow_y": null,
            "padding": null,
            "right": null,
            "top": null,
            "visibility": null,
            "width": null
          }
        },
        "cc93f6299d844f74b89a448c83dc9a9c": {
          "model_module": "@jupyter-widgets/controls",
          "model_name": "DescriptionStyleModel",
          "model_module_version": "1.5.0",
          "state": {
            "_model_module": "@jupyter-widgets/controls",
            "_model_module_version": "1.5.0",
            "_model_name": "DescriptionStyleModel",
            "_view_count": null,
            "_view_module": "@jupyter-widgets/base",
            "_view_module_version": "1.2.0",
            "_view_name": "StyleView",
            "description_width": ""
          }
        },
        "f466614815ff4bc78c1dcc8345856f52": {
          "model_module": "@jupyter-widgets/controls",
          "model_name": "HBoxModel",
          "model_module_version": "1.5.0",
          "state": {
            "_dom_classes": [],
            "_model_module": "@jupyter-widgets/controls",
            "_model_module_version": "1.5.0",
            "_model_name": "HBoxModel",
            "_view_count": null,
            "_view_module": "@jupyter-widgets/controls",
            "_view_module_version": "1.5.0",
            "_view_name": "HBoxView",
            "box_style": "",
            "children": [
              "IPY_MODEL_da74f9fb3d634735bc6752c78e3d2f07",
              "IPY_MODEL_ebf2c6e6c3f046fe8b4db2d0753525e4",
              "IPY_MODEL_a2df9db602894ade9b627300ccaf0c4b"
            ],
            "layout": "IPY_MODEL_e7b7544a3cf94c5a916aa0678272541a"
          }
        },
        "da74f9fb3d634735bc6752c78e3d2f07": {
          "model_module": "@jupyter-widgets/controls",
          "model_name": "HTMLModel",
          "model_module_version": "1.5.0",
          "state": {
            "_dom_classes": [],
            "_model_module": "@jupyter-widgets/controls",
            "_model_module_version": "1.5.0",
            "_model_name": "HTMLModel",
            "_view_count": null,
            "_view_module": "@jupyter-widgets/controls",
            "_view_module_version": "1.5.0",
            "_view_name": "HTMLView",
            "description": "",
            "description_tooltip": null,
            "layout": "IPY_MODEL_69d6a884ad7249dda8a32750cba9915d",
            "placeholder": "​",
            "style": "IPY_MODEL_12734a5a2e0646a88c2182469ceaf920",
            "value": "tokenizer.json: 100%"
          }
        },
        "ebf2c6e6c3f046fe8b4db2d0753525e4": {
          "model_module": "@jupyter-widgets/controls",
          "model_name": "FloatProgressModel",
          "model_module_version": "1.5.0",
          "state": {
            "_dom_classes": [],
            "_model_module": "@jupyter-widgets/controls",
            "_model_module_version": "1.5.0",
            "_model_name": "FloatProgressModel",
            "_view_count": null,
            "_view_module": "@jupyter-widgets/controls",
            "_view_module_version": "1.5.0",
            "_view_name": "ProgressView",
            "bar_style": "success",
            "description": "",
            "description_tooltip": null,
            "layout": "IPY_MODEL_7773895abe244c22b165f35a4182e537",
            "max": 466062,
            "min": 0,
            "orientation": "horizontal",
            "style": "IPY_MODEL_ec98363b88ab4bd298fae9da042e6a5c",
            "value": 466062
          }
        },
        "a2df9db602894ade9b627300ccaf0c4b": {
          "model_module": "@jupyter-widgets/controls",
          "model_name": "HTMLModel",
          "model_module_version": "1.5.0",
          "state": {
            "_dom_classes": [],
            "_model_module": "@jupyter-widgets/controls",
            "_model_module_version": "1.5.0",
            "_model_name": "HTMLModel",
            "_view_count": null,
            "_view_module": "@jupyter-widgets/controls",
            "_view_module_version": "1.5.0",
            "_view_name": "HTMLView",
            "description": "",
            "description_tooltip": null,
            "layout": "IPY_MODEL_c3cc2c90811041948f961675d9eea1a3",
            "placeholder": "​",
            "style": "IPY_MODEL_db8323c50c2e45dea4699dcee13c406e",
            "value": " 466k/466k [00:00&lt;00:00, 549kB/s]"
          }
        },
        "e7b7544a3cf94c5a916aa0678272541a": {
          "model_module": "@jupyter-widgets/base",
          "model_name": "LayoutModel",
          "model_module_version": "1.2.0",
          "state": {
            "_model_module": "@jupyter-widgets/base",
            "_model_module_version": "1.2.0",
            "_model_name": "LayoutModel",
            "_view_count": null,
            "_view_module": "@jupyter-widgets/base",
            "_view_module_version": "1.2.0",
            "_view_name": "LayoutView",
            "align_content": null,
            "align_items": null,
            "align_self": null,
            "border": null,
            "bottom": null,
            "display": null,
            "flex": null,
            "flex_flow": null,
            "grid_area": null,
            "grid_auto_columns": null,
            "grid_auto_flow": null,
            "grid_auto_rows": null,
            "grid_column": null,
            "grid_gap": null,
            "grid_row": null,
            "grid_template_areas": null,
            "grid_template_columns": null,
            "grid_template_rows": null,
            "height": null,
            "justify_content": null,
            "justify_items": null,
            "left": null,
            "margin": null,
            "max_height": null,
            "max_width": null,
            "min_height": null,
            "min_width": null,
            "object_fit": null,
            "object_position": null,
            "order": null,
            "overflow": null,
            "overflow_x": null,
            "overflow_y": null,
            "padding": null,
            "right": null,
            "top": null,
            "visibility": null,
            "width": null
          }
        },
        "69d6a884ad7249dda8a32750cba9915d": {
          "model_module": "@jupyter-widgets/base",
          "model_name": "LayoutModel",
          "model_module_version": "1.2.0",
          "state": {
            "_model_module": "@jupyter-widgets/base",
            "_model_module_version": "1.2.0",
            "_model_name": "LayoutModel",
            "_view_count": null,
            "_view_module": "@jupyter-widgets/base",
            "_view_module_version": "1.2.0",
            "_view_name": "LayoutView",
            "align_content": null,
            "align_items": null,
            "align_self": null,
            "border": null,
            "bottom": null,
            "display": null,
            "flex": null,
            "flex_flow": null,
            "grid_area": null,
            "grid_auto_columns": null,
            "grid_auto_flow": null,
            "grid_auto_rows": null,
            "grid_column": null,
            "grid_gap": null,
            "grid_row": null,
            "grid_template_areas": null,
            "grid_template_columns": null,
            "grid_template_rows": null,
            "height": null,
            "justify_content": null,
            "justify_items": null,
            "left": null,
            "margin": null,
            "max_height": null,
            "max_width": null,
            "min_height": null,
            "min_width": null,
            "object_fit": null,
            "object_position": null,
            "order": null,
            "overflow": null,
            "overflow_x": null,
            "overflow_y": null,
            "padding": null,
            "right": null,
            "top": null,
            "visibility": null,
            "width": null
          }
        },
        "12734a5a2e0646a88c2182469ceaf920": {
          "model_module": "@jupyter-widgets/controls",
          "model_name": "DescriptionStyleModel",
          "model_module_version": "1.5.0",
          "state": {
            "_model_module": "@jupyter-widgets/controls",
            "_model_module_version": "1.5.0",
            "_model_name": "DescriptionStyleModel",
            "_view_count": null,
            "_view_module": "@jupyter-widgets/base",
            "_view_module_version": "1.2.0",
            "_view_name": "StyleView",
            "description_width": ""
          }
        },
        "7773895abe244c22b165f35a4182e537": {
          "model_module": "@jupyter-widgets/base",
          "model_name": "LayoutModel",
          "model_module_version": "1.2.0",
          "state": {
            "_model_module": "@jupyter-widgets/base",
            "_model_module_version": "1.2.0",
            "_model_name": "LayoutModel",
            "_view_count": null,
            "_view_module": "@jupyter-widgets/base",
            "_view_module_version": "1.2.0",
            "_view_name": "LayoutView",
            "align_content": null,
            "align_items": null,
            "align_self": null,
            "border": null,
            "bottom": null,
            "display": null,
            "flex": null,
            "flex_flow": null,
            "grid_area": null,
            "grid_auto_columns": null,
            "grid_auto_flow": null,
            "grid_auto_rows": null,
            "grid_column": null,
            "grid_gap": null,
            "grid_row": null,
            "grid_template_areas": null,
            "grid_template_columns": null,
            "grid_template_rows": null,
            "height": null,
            "justify_content": null,
            "justify_items": null,
            "left": null,
            "margin": null,
            "max_height": null,
            "max_width": null,
            "min_height": null,
            "min_width": null,
            "object_fit": null,
            "object_position": null,
            "order": null,
            "overflow": null,
            "overflow_x": null,
            "overflow_y": null,
            "padding": null,
            "right": null,
            "top": null,
            "visibility": null,
            "width": null
          }
        },
        "ec98363b88ab4bd298fae9da042e6a5c": {
          "model_module": "@jupyter-widgets/controls",
          "model_name": "ProgressStyleModel",
          "model_module_version": "1.5.0",
          "state": {
            "_model_module": "@jupyter-widgets/controls",
            "_model_module_version": "1.5.0",
            "_model_name": "ProgressStyleModel",
            "_view_count": null,
            "_view_module": "@jupyter-widgets/base",
            "_view_module_version": "1.2.0",
            "_view_name": "StyleView",
            "bar_color": null,
            "description_width": ""
          }
        },
        "c3cc2c90811041948f961675d9eea1a3": {
          "model_module": "@jupyter-widgets/base",
          "model_name": "LayoutModel",
          "model_module_version": "1.2.0",
          "state": {
            "_model_module": "@jupyter-widgets/base",
            "_model_module_version": "1.2.0",
            "_model_name": "LayoutModel",
            "_view_count": null,
            "_view_module": "@jupyter-widgets/base",
            "_view_module_version": "1.2.0",
            "_view_name": "LayoutView",
            "align_content": null,
            "align_items": null,
            "align_self": null,
            "border": null,
            "bottom": null,
            "display": null,
            "flex": null,
            "flex_flow": null,
            "grid_area": null,
            "grid_auto_columns": null,
            "grid_auto_flow": null,
            "grid_auto_rows": null,
            "grid_column": null,
            "grid_gap": null,
            "grid_row": null,
            "grid_template_areas": null,
            "grid_template_columns": null,
            "grid_template_rows": null,
            "height": null,
            "justify_content": null,
            "justify_items": null,
            "left": null,
            "margin": null,
            "max_height": null,
            "max_width": null,
            "min_height": null,
            "min_width": null,
            "object_fit": null,
            "object_position": null,
            "order": null,
            "overflow": null,
            "overflow_x": null,
            "overflow_y": null,
            "padding": null,
            "right": null,
            "top": null,
            "visibility": null,
            "width": null
          }
        },
        "db8323c50c2e45dea4699dcee13c406e": {
          "model_module": "@jupyter-widgets/controls",
          "model_name": "DescriptionStyleModel",
          "model_module_version": "1.5.0",
          "state": {
            "_model_module": "@jupyter-widgets/controls",
            "_model_module_version": "1.5.0",
            "_model_name": "DescriptionStyleModel",
            "_view_count": null,
            "_view_module": "@jupyter-widgets/base",
            "_view_module_version": "1.2.0",
            "_view_name": "StyleView",
            "description_width": ""
          }
        }
      }
    }
  },
  "nbformat": 4,
  "nbformat_minor": 5
}